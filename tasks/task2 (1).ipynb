{
  "nbformat": 4,
  "nbformat_minor": 0,
  "metadata": {
    "colab": {
      "provenance": []
    },
    "kernelspec": {
      "name": "python3",
      "display_name": "Python 3"
    },
    "language_info": {
      "name": "python"
    }
  },
  "cells": [
    {
      "cell_type": "code",
      "execution_count": null,
      "metadata": {
        "id": "vs_SU3ng0tbN"
      },
      "outputs": [],
      "source": []
    },
    {
      "cell_type": "markdown",
      "source": [
        "\n",
        "# **WAP to enter a number from user and print its absolute value.**"
      ],
      "metadata": {
        "id": "MnWAiH2o0zSa"
      }
    },
    {
      "cell_type": "code",
      "source": [
        "number = int(input(\"Enter a number:\"))\n",
        "if number < 0 :\n",
        "  print(\"the absolute value of the \",number,\"is\",-number)\n",
        "else:\n",
        "    print(\"the absolute value of the \",number,\"is\",number)"
      ],
      "metadata": {
        "id": "l3oLMLbk02Pj",
        "colab": {
          "base_uri": "https://localhost:8080/"
        },
        "outputId": "ff9001ce-7726-4257-d3bf-4a14be0fe667"
      },
      "execution_count": 66,
      "outputs": [
        {
          "output_type": "stream",
          "name": "stdout",
          "text": [
            "Enter a number:-12\n",
            "the absolute value of the  -12 is 12\n"
          ]
        }
      ]
    },
    {
      "cell_type": "code",
      "source": [
        "#another solution\n",
        "number = int(input(\"Enter a number:\"))\n",
        "print(\"the absolute value of the \",number,\"is\",abs(number))"
      ],
      "metadata": {
        "colab": {
          "base_uri": "https://localhost:8080/"
        },
        "id": "7QqsITKIZu2I",
        "outputId": "0b694382-fd72-41c0-8445-aec3b3d864fc"
      },
      "execution_count": 67,
      "outputs": [
        {
          "output_type": "stream",
          "name": "stdout",
          "text": [
            "Enter a number:-6\n",
            "the absolute value of the  -6 is 6\n"
          ]
        }
      ]
    },
    {
      "cell_type": "markdown",
      "source": [
        "# **WAP to enter a year from user and check if it is leap year or not.**"
      ],
      "metadata": {
        "id": "pOnjNwNx03Tr"
      }
    },
    {
      "cell_type": "code",
      "source": [
        "year = int(input(\"Enter the year:\"))\n",
        "if year % 4==0 and year % 100!=0 or year % 400 ==0 and year % 100 ==0:\n",
        "  print(year,\"is a leap year\")\n",
        "else:\n",
        "  print(year,\"is not a leap year\")"
      ],
      "metadata": {
        "id": "4PEtUTm51H6x",
        "colab": {
          "base_uri": "https://localhost:8080/"
        },
        "outputId": "2ca2a110-9d46-4b1c-cfea-b566d3e2127b"
      },
      "execution_count": 64,
      "outputs": [
        {
          "output_type": "stream",
          "name": "stdout",
          "text": [
            "Enter the year:365\n",
            "365 is not a leap year\n"
          ]
        }
      ]
    },
    {
      "cell_type": "markdown",
      "source": [
        "# **WAP to enter the age of 3 person and print oldest and yougest among them.**"
      ],
      "metadata": {
        "id": "sn-NADUn1VGn"
      }
    },
    {
      "cell_type": "code",
      "source": [
        "age1=int(input(\"Enter the age of first person:\"))\n",
        "age2=int(input(\"Enter the age of second person:\"))\n",
        "age3=int(input(\"Enter the age of third person:\"))\n",
        "if age1>age2 and age1>age3:\n",
        "  print(\"First person is oldest\")\n",
        "elif age2>age1 and age2>age3:\n",
        "  print(\"Second person is oldest\")\n",
        "else:\n",
        "  print(\"third person is oldest\")\n",
        "if age1<age2 and age1<age3:\n",
        "  print(\"First person is Youngest\")\n",
        "elif age2<age1 and age2<age3:\n",
        "  print(\"Second person is Youngest\")\n",
        "else:\n",
        "  print(\"third person is Youngest\")\n",
        "\n"
      ],
      "metadata": {
        "id": "uNGWS1AT1cYP",
        "colab": {
          "base_uri": "https://localhost:8080/"
        },
        "outputId": "2941d13c-bb80-4789-b587-f67800a8389e"
      },
      "execution_count": 7,
      "outputs": [
        {
          "output_type": "stream",
          "name": "stdout",
          "text": [
            "Enter the age of first person:6\n",
            "Enter the age of second person:7\n",
            "Enter the age of third person:2\n",
            "Second person is oldest\n",
            "third person is Youngest\n"
          ]
        }
      ]
    },
    {
      "cell_type": "code",
      "source": [
        "#another solution\n",
        "age1=int(input(\"Enter the age of first person:\"))\n",
        "age2=int(input(\"Enter the age of second person:\"))\n",
        "age3=int(input(\"Enter the age of third person:\"))\n",
        "oldest=max(age1,age2,age3)\n",
        "Youngest=min(age1,age2,age3)\n",
        "print(\"the oldest person is\", oldest,\"years old\")\n",
        "print(\"the youngest person is\", Youngest,\"years old\")"
      ],
      "metadata": {
        "id": "ijp9SzHu2A3p",
        "colab": {
          "base_uri": "https://localhost:8080/"
        },
        "outputId": "61673c11-dd3f-4428-980d-d30e838ccf85"
      },
      "execution_count": 8,
      "outputs": [
        {
          "output_type": "stream",
          "name": "stdout",
          "text": [
            "Enter the age of first person:6\n",
            "Enter the age of second person:7\n",
            "Enter the age of third person:2\n",
            "the oldest person is 7 years old\n",
            "the youngest person is 2 years old\n"
          ]
        }
      ]
    },
    {
      "cell_type": "markdown",
      "source": [
        "# **Write a program that asks the user to enter a series of numbers. The program should ask for numbers until the user enters a negative number. Once the user enters a negative number, the program should stop and print the sum of all the positive numbers entered**\n",
        "# **Example**\n",
        "# **Enter a number: 5**\n",
        "# **Enter a number: 8**\n",
        "# **Enter a number: 12**\n",
        "# **Enter a number: -2**\n",
        "# **The sum of the positive numbers is 25.**"
      ],
      "metadata": {
        "id": "XFRRNGVj1dEw"
      }
    },
    {
      "cell_type": "code",
      "source": [
        "sum = 0\n",
        "number = int(input(\"Enter a number:\"))\n",
        "for i in range(100):\n",
        "  if number < 0:\n",
        "    break\n",
        "  sum = sum + number\n",
        "  number = int(input(\"Enter a number:\"))\n",
        "print(\"the sum of the all positive number is:\",sum)"
      ],
      "metadata": {
        "colab": {
          "base_uri": "https://localhost:8080/"
        },
        "id": "HAo7tmQsPEJM",
        "outputId": "0704b899-34d1-4abd-ea73-888a15f683fe"
      },
      "execution_count": 28,
      "outputs": [
        {
          "output_type": "stream",
          "name": "stdout",
          "text": [
            "Enter a number:5\n",
            "Enter a number:8\n",
            "Enter a number:12\n",
            "Enter a number:-2\n",
            "the sum of the all positive number is: 25\n"
          ]
        }
      ]
    },
    {
      "cell_type": "markdown",
      "source": [
        "# **Write a program that asks the user to enter their name and age. The program should check if the user's age is greater than or equal to 18. If it is, the program should print a message saying they are eligible to vote. Otherwise, the program should print a message saying they are not eligible to vote due to being underage.**"
      ],
      "metadata": {
        "id": "oODCHUj62DxA"
      }
    },
    {
      "cell_type": "code",
      "source": [
        "number = int(input(\"Enter your age:\"))\n",
        "if number >= 18:\n",
        "  print(number , \"years old ,you are eligible to vote\")\n",
        "else:\n",
        "  print(number , \"years old ,you are not eligible to vote\")"
      ],
      "metadata": {
        "id": "Svls1cLA2JVA",
        "colab": {
          "base_uri": "https://localhost:8080/"
        },
        "outputId": "4c768735-0a1d-4799-ed3f-045cfe05e7eb"
      },
      "execution_count": 19,
      "outputs": [
        {
          "output_type": "stream",
          "name": "stdout",
          "text": [
            "Enter your age:15\n",
            "15 years old ,you are not eligible to vote\n"
          ]
        }
      ]
    },
    {
      "cell_type": "markdown",
      "source": [
        "# **Write a Python Program to Find the Factorial of a Number**"
      ],
      "metadata": {
        "id": "2y5o5SqL3nvL"
      }
    },
    {
      "cell_type": "code",
      "source": [
        "number = int(input(\"Enter the number\"))\n",
        "factorial = 1\n",
        "for i in range(1,number + 1):\n",
        "  factorial = factorial * i\n",
        "print(\"the factorial of \", number, \"is\", factorial)"
      ],
      "metadata": {
        "id": "Q_v3ns1D3tgy",
        "colab": {
          "base_uri": "https://localhost:8080/"
        },
        "outputId": "bc7c4d41-3ba1-452f-e144-51ea6aad2fb5"
      },
      "execution_count": 17,
      "outputs": [
        {
          "output_type": "stream",
          "name": "stdout",
          "text": [
            "Enter the number6\n",
            "the factorial of  6 is 720\n"
          ]
        }
      ]
    }
  ]
}