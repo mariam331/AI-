{
  "cells": [
    {
      "cell_type": "markdown",
      "id": "ff38aad7",
      "metadata": {
        "id": "ff38aad7"
      },
      "source": [
        "### 1-Write a Python program that takes two numbers as user input and performs addition on them."
      ]
    },
    {
      "cell_type": "code",
      "execution_count": null,
      "id": "91696b79",
      "metadata": {
        "id": "91696b79",
        "colab": {
          "base_uri": "https://localhost:8080/"
        },
        "outputId": "83f58912-5a02-4f9d-bfb0-a831daa726ee"
      },
      "outputs": [
        {
          "output_type": "stream",
          "name": "stdout",
          "text": [
            "enter first number3\n",
            "enter second number2\n",
            "5\n"
          ]
        }
      ],
      "source": [
        "num = int(input(\"enter first number\"))\n",
        "num2 = int(input(\"enter second number\"))\n",
        "print(num+num2)"
      ]
    },
    {
      "cell_type": "markdown",
      "id": "360854ff",
      "metadata": {
        "id": "360854ff"
      },
      "source": [
        "### 2-Write a Python program that takes an integer as input and checks if it is even or odd. Print \"Even\" if the number is divisible by 2, otherwise print \"Odd\"."
      ]
    },
    {
      "cell_type": "code",
      "execution_count": null,
      "id": "ee4c35fe",
      "metadata": {
        "ExecuteTime": {
          "end_time": "2023-07-23T21:35:24.351946Z",
          "start_time": "2023-07-23T21:35:23.287212Z"
        },
        "id": "ee4c35fe",
        "colab": {
          "base_uri": "https://localhost:8080/"
        },
        "outputId": "fe3d8eb5-15f0-4dd6-d2cd-31cf6b72a0e1"
      },
      "outputs": [
        {
          "output_type": "stream",
          "name": "stdout",
          "text": [
            "enter first number10\n",
            "even\n"
          ]
        }
      ],
      "source": [
        "num = int(input(\"enter first number\"))\n",
        "if num%2==0:\n",
        "    print(\"even\")\n",
        "else:\n",
        "    print(\"odd\")"
      ]
    },
    {
      "cell_type": "markdown",
      "id": "6ea0354c",
      "metadata": {
        "id": "6ea0354c"
      },
      "source": [
        "### 3-Write a Python program that prints all the even numbers from 1 to 20 using a for loop"
      ]
    },
    {
      "cell_type": "code",
      "execution_count": null,
      "id": "cc16a5c2",
      "metadata": {
        "ExecuteTime": {
          "end_time": "2023-07-23T22:04:21.481350Z",
          "start_time": "2023-07-23T22:04:21.452242Z"
        },
        "id": "cc16a5c2",
        "colab": {
          "base_uri": "https://localhost:8080/"
        },
        "outputId": "26cbf069-953e-45c5-a136-ac04a1aca50e"
      },
      "outputs": [
        {
          "output_type": "stream",
          "name": "stdout",
          "text": [
            "2\n",
            "4\n",
            "6\n",
            "8\n",
            "10\n",
            "12\n",
            "14\n",
            "16\n",
            "18\n",
            "20\n"
          ]
        }
      ],
      "source": [
        "for i in range(1,21):\n",
        "    if i%2==0:\n",
        "        print(i)"
      ]
    },
    {
      "cell_type": "markdown",
      "id": "2d66bab2",
      "metadata": {
        "id": "2d66bab2"
      },
      "source": [
        "### 4-Write a Python function that takes a string as input and counts the number of vowels (a, e, i, o, u) in the string. The function should return the count"
      ]
    },
    {
      "cell_type": "code",
      "execution_count": null,
      "id": "a37a84fd",
      "metadata": {
        "ExecuteTime": {
          "end_time": "2023-07-23T21:45:58.522044Z",
          "start_time": "2023-07-23T21:45:58.514370Z"
        },
        "id": "a37a84fd",
        "colab": {
          "base_uri": "https://localhost:8080/"
        },
        "outputId": "b3b1ac21-df27-48e9-85af-0d1f6e6b4fde"
      },
      "outputs": [
        {
          "output_type": "stream",
          "name": "stdout",
          "text": [
            "Enter the char:mariam\n",
            "3\n"
          ]
        }
      ],
      "source": [
        "char = input(\"Enter the char:\")\n",
        "vowels = 'aeiouAEIOU'\n",
        "count = 0\n",
        "for i in char:\n",
        "    if i in vowels:\n",
        "        count += 1\n",
        "print(count)"
      ]
    },
    {
      "cell_type": "markdown",
      "id": "a9a0ea06",
      "metadata": {
        "id": "a9a0ea06"
      },
      "source": [
        "### 5-Write a Python program that creates a list of numbers from 1 to 10. Use a loop to iterate over the list and print each number of power 2."
      ]
    },
    {
      "cell_type": "code",
      "execution_count": null,
      "id": "6fa658cf",
      "metadata": {
        "ExecuteTime": {
          "end_time": "2023-07-23T21:48:02.328880Z",
          "start_time": "2023-07-23T21:48:02.314313Z"
        },
        "id": "6fa658cf",
        "colab": {
          "base_uri": "https://localhost:8080/"
        },
        "outputId": "9818a596-4a32-4359-e49c-1abd4efa458b"
      },
      "outputs": [
        {
          "output_type": "stream",
          "name": "stdout",
          "text": [
            "1^2 = 1\n",
            "2^2 = 4\n",
            "3^2 = 9\n",
            "4^2 = 16\n",
            "5^2 = 25\n",
            "6^2 = 36\n",
            "7^2 = 49\n",
            "8^2 = 64\n",
            "9^2 = 81\n",
            "10^2 = 100\n"
          ]
        }
      ],
      "source": [
        "num = list(range(1,11))\n",
        "for i in num :\n",
        "  print(f\"{i}^2 = {i ** 2}\")"
      ]
    },
    {
      "cell_type": "markdown",
      "id": "430c9df9",
      "metadata": {
        "id": "430c9df9"
      },
      "source": [
        "### 6-Write a Python program that calculates the average grade for a student based on their scores in different subjects. The program should include the following steps:\n",
        "\n",
        "#### 1-Create variables to store the student's name, subject names, and corresponding scores. Initialize the variables with sample data.\n",
        "\n",
        "#### 2-Prompt the user to enter the student's name and assign it to the name variable.\n",
        "\n",
        "#### 3-Use a loop to prompt the user to enter the subject names and corresponding scores. Store the subject names in a list and the scores in another list.\n",
        "\n",
        "#### 4-After collecting the scores, calculate the average grade by summing up all the scores and dividing by the total number of subjects.\n",
        "\n",
        "#### 5-Check if the average grade is above a 70, print a congratulatory message. Otherwise, print an encouragement message."
      ]
    },
    {
      "cell_type": "code",
      "execution_count": null,
      "id": "e0254271",
      "metadata": {
        "ExecuteTime": {
          "end_time": "2023-07-15T16:16:17.066909Z",
          "start_time": "2023-07-15T16:16:07.636799Z"
        },
        "id": "e0254271",
        "colab": {
          "base_uri": "https://localhost:8080/"
        },
        "outputId": "af5c974f-e69f-4726-d787-00547b94ad0f"
      },
      "outputs": [
        {
          "output_type": "stream",
          "name": "stdout",
          "text": [
            "enter student name:mariam\n",
            "enter number of subjects:6\n",
            "enter subject name:math\n",
            "enter score:99\n",
            "enter subject name:programming\n",
            "enter score:98\n",
            "enter subject name:Ai\n",
            "enter score:97\n",
            "enter subject name:embedded\n",
            "enter score:95\n",
            "enter subject name:hci\n",
            "enter score:100\n",
            "enter subject name:computer graphics\n",
            "enter score:99\n",
            "congratulation\n"
          ]
        }
      ],
      "source": [
        "student_name = input(\"enter student name:\")\n",
        "subject_names = []\n",
        "scores = []\n",
        "num_subjects = int(input(\"enter number of subjects:\"))\n",
        "for i in range(num_subjects):\n",
        "    subject_name = input(\"enter subject name:\")\n",
        "    score = float(input(\"enter score:\"))\n",
        "    subject_names.append(subject_name)\n",
        "    scores.append(score)\n",
        "    avg = sum(scores)/num_subjects\n",
        "if avg > 70:\n",
        "    print(\"congratulation!!\")\n",
        "else:\n",
        "    print(\"Good\")"
      ]
    },
    {
      "cell_type": "markdown",
      "id": "ae9df360",
      "metadata": {
        "id": "ae9df360"
      },
      "source": [
        "### 7-Find Common Elements\n",
        "### Write a Python function that takes two lists as input and returns a new list containing the common elements present in both lists."
      ]
    },
    {
      "cell_type": "code",
      "execution_count": null,
      "id": "d030c3c0",
      "metadata": {
        "ExecuteTime": {
          "end_time": "2023-07-23T22:08:16.794474Z",
          "start_time": "2023-07-23T22:08:16.775639Z"
        },
        "id": "d030c3c0",
        "colab": {
          "base_uri": "https://localhost:8080/"
        },
        "outputId": "abcb99cf-a6b5-4c00-bac0-a44e179579f2"
      },
      "outputs": [
        {
          "output_type": "stream",
          "name": "stdout",
          "text": [
            "[4, 5, 6, 7]\n"
          ]
        }
      ],
      "source": [
        "list1 = [1,2,3,4,5,6,7]\n",
        "list2 = [4,5,6,7,8]\n",
        "common_elements = []\n",
        "for i in list1:\n",
        "    if i in list2:\n",
        "        common_elements.append(i)\n",
        "print(common_elements)"
      ]
    },
    {
      "cell_type": "markdown",
      "id": "9a2f34cb",
      "metadata": {
        "id": "9a2f34cb"
      },
      "source": [
        "### 8-Write a Python function that takes a list of numbers and an element to remove from the list."
      ]
    },
    {
      "cell_type": "code",
      "execution_count": null,
      "id": "78de9fe8",
      "metadata": {
        "ExecuteTime": {
          "end_time": "2023-07-23T22:21:36.514592Z",
          "start_time": "2023-07-23T22:21:36.505437Z"
        },
        "id": "78de9fe8",
        "colab": {
          "base_uri": "https://localhost:8080/"
        },
        "outputId": "c8df0657-7537-4374-93e4-8f334b3e0760"
      },
      "outputs": [
        {
          "output_type": "stream",
          "name": "stdout",
          "text": [
            "List after removing 2 : [1, 3, 4]\n"
          ]
        }
      ],
      "source": [
        "numbers = [1,2,3,4]\n",
        "element_to_remove = 2\n",
        "while element_to_remove in numbers:\n",
        "    numbers.remove(element_to_remove)\n",
        "print(\"List after removing\",element_to_remove,\":\",list)"
      ]
    },
    {
      "cell_type": "markdown",
      "id": "f1658f3b",
      "metadata": {
        "ExecuteTime": {
          "end_time": "2023-07-23T22:18:08.230185Z",
          "start_time": "2023-07-23T22:18:08.224220Z"
        },
        "id": "f1658f3b"
      },
      "source": [
        "### 9-Given 4 numbers A, B, C and D. Print the last 2 digits from their Multiplication.\n",
        "### Example :\n",
        "### the Multiplication of 4 numbers is 5 * 7 * 2 * 4 = 280 so the answer will be the last 2 digits which are 80."
      ]
    },
    {
      "cell_type": "code",
      "source": [
        "numbers = input().split()\n",
        "A = int(numbers[0])\n",
        "B = int(numbers[1])\n",
        "C = int(numbers[2])\n",
        "D = int(numbers[3])\n",
        "X = A * B * C * D\n",
        "print(X % 100)"
      ],
      "metadata": {
        "colab": {
          "base_uri": "https://localhost:8080/"
        },
        "id": "2S5xZBJacgJe",
        "outputId": "fc8437de-2235-406b-ec63-7856802c1c54"
      },
      "id": "2S5xZBJacgJe",
      "execution_count": null,
      "outputs": [
        {
          "output_type": "stream",
          "name": "stdout",
          "text": [
            "5 7 2 4\n",
            "80\n"
          ]
        }
      ]
    },
    {
      "cell_type": "code",
      "source": [
        "A = int(input(\"enter first number\"))\n",
        "B = int(input(\"enter second number\"))\n",
        "C = int(input(\"enter third number\"))\n",
        "D = int(input(\"enter fourth number\"))\n",
        "X = A * B * C * D\n",
        "print(X % 100)"
      ],
      "metadata": {
        "colab": {
          "base_uri": "https://localhost:8080/"
        },
        "id": "CKDHwPAHdqSH",
        "outputId": "341590ec-1070-4774-f917-18b30d906e59"
      },
      "id": "CKDHwPAHdqSH",
      "execution_count": null,
      "outputs": [
        {
          "output_type": "stream",
          "name": "stdout",
          "text": [
            "enter first number5\n",
            "enter second number7\n",
            "enter third number2\n",
            "enter fourth number4\n",
            "80\n"
          ]
        }
      ]
    },
    {
      "cell_type": "markdown",
      "id": "d7ab15bb",
      "metadata": {
        "ExecuteTime": {
          "end_time": "2023-07-23T22:26:14.833712Z",
          "start_time": "2023-07-23T22:26:14.819130Z"
        },
        "id": "d7ab15bb"
      },
      "source": [
        "### 10- Given a number X. Determine if the number is prime or not"
      ]
    },
    {
      "cell_type": "code",
      "execution_count": null,
      "id": "03f6ff0e",
      "metadata": {
        "id": "03f6ff0e",
        "colab": {
          "base_uri": "https://localhost:8080/"
        },
        "outputId": "7e846315-df3e-4f73-ff45-b89f8449448b"
      },
      "outputs": [
        {
          "output_type": "stream",
          "name": "stdout",
          "text": [
            "enter number:3\n",
            "3 number is prime\n"
          ]
        }
      ],
      "source": [
        "x = int(input(\"enter number:\"))\n",
        "for i in range(2 , int(x/2)+1):\n",
        "    if x%i==0:\n",
        "        print(x,\"number is not prime\")\n",
        "        break\n",
        "else:\n",
        "    print(x,\"number is prime\")\n"
      ]
    },
    {
      "cell_type": "markdown",
      "id": "e1d1dcf9",
      "metadata": {
        "id": "e1d1dcf9"
      },
      "source": [
        "### 11- Given a number N and a list A of N numbers. Determine if the number X exists in array A or not and print its position (0-index)."
      ]
    },
    {
      "cell_type": "code",
      "source": [
        "N = int(input(\"enter number:\"))\n",
        "A = []\n",
        "print(\"enter numbers:\")\n",
        "for i in range(N):\n",
        "    num = int(input())\n",
        "    A.append(num)\n",
        "X = int(input(\"enter number:\"))\n",
        "for i in range(N):\n",
        "    if A[i] == X:\n",
        "        print(i)\n",
        "        break\n",
        "else:\n",
        "    print(-1)"
      ],
      "metadata": {
        "id": "kHR5fv95iEIW",
        "outputId": "96f8a873-83c8-4029-fde3-55f4033e0069",
        "colab": {
          "base_uri": "https://localhost:8080/"
        }
      },
      "id": "kHR5fv95iEIW",
      "execution_count": null,
      "outputs": [
        {
          "output_type": "stream",
          "name": "stdout",
          "text": [
            "enter number:6\n",
            "enter numbers:\n",
            "4\n",
            "5\n",
            "10\n",
            "6\n",
            "7\n",
            "55\n",
            "enter number:55\n",
            "5\n"
          ]
        }
      ]
    },
    {
      "cell_type": "markdown",
      "id": "f2ec854b",
      "metadata": {
        "id": "f2ec854b"
      },
      "source": [
        "### 12- Given a number N and a list A of N numbers. Determine if the array is lucky or not.\n",
        "\n",
        "#### Note: the array is lucky if the frequency (number of occurrence) of the minimum element is odd."
      ]
    },
    {
      "cell_type": "code",
      "source": [
        "N = int(input(\"enter number:\"))\n",
        "A = []\n",
        "print(\"enter numbers:\")\n",
        "for i in range(N):\n",
        "    num = int(input())\n",
        "    A.append(num)\n",
        "if N == 0:\n",
        "    print(\"The array is empty.\")\n",
        "else:\n",
        "    min_element = min(A)\n",
        "    min_count = A.count(min_element)\n",
        "    if min_count % 2 == 1:\n",
        "        print(\"The array is lucky.\")\n",
        "    else:\n",
        "        print(\"The array is not lucky.\")\n"
      ],
      "metadata": {
        "id": "623rClXUlyRl",
        "outputId": "68760cad-4b00-4487-9a73-877cf80594db",
        "colab": {
          "base_uri": "https://localhost:8080/"
        }
      },
      "id": "623rClXUlyRl",
      "execution_count": null,
      "outputs": [
        {
          "output_type": "stream",
          "name": "stdout",
          "text": [
            "enter number:5\n",
            "enter numbers:\n",
            "10\n",
            "20\n",
            "10\n",
            "10\n",
            "30\n",
            "The array is lucky.\n"
          ]
        }
      ]
    },
    {
      "cell_type": "markdown",
      "id": "e1ce1ae5",
      "metadata": {
        "id": "e1ce1ae5"
      },
      "source": [
        "### 13-Given a number N and a list A of N numbers. Print the array after doing the following operations:\n",
        "\n",
        "#### Find minimum number in these numbers.\n",
        "#### Find maximum number in these numbers.\n",
        "##### Swap minimum number with maximum number."
      ]
    },
    {
      "cell_type": "code",
      "execution_count": null,
      "id": "e0d6e639",
      "metadata": {
        "ExecuteTime": {
          "end_time": "2023-07-23T23:10:04.293733Z",
          "start_time": "2023-07-23T23:10:04.280256Z"
        },
        "id": "e0d6e639",
        "colab": {
          "base_uri": "https://localhost:8080/"
        },
        "outputId": "4d9ffeb6-43cc-4a84-cf8d-9257874af22c"
      },
      "outputs": [
        {
          "output_type": "stream",
          "name": "stdout",
          "text": [
            "enter number:5\n",
            "enter numbers:\n",
            "10\n",
            "20\n",
            "30\n",
            "40\n",
            "50\n",
            "[50, 20, 30, 40, 10]\n"
          ]
        }
      ],
      "source": [
        "N = int(input(\"enter number:\"))\n",
        "A = []\n",
        "print(\"enter numbers:\")\n",
        "for i in range(N):\n",
        "    num = int(input())\n",
        "    A.append(num)\n",
        "    min_element = min(A)\n",
        "    max_element = max(A)\n",
        "for i in range(N):\n",
        "    if A[i] == min_element:\n",
        "       A[i] = max_element\n",
        "    elif A[i] == max_element:\n",
        "         A[i] = min_element\n",
        "print(A)"
      ]
    },
    {
      "cell_type": "markdown",
      "id": "9eb8e9c5",
      "metadata": {
        "ExecuteTime": {
          "end_time": "2023-07-23T23:10:06.436833Z",
          "start_time": "2023-07-23T23:10:06.422086Z"
        },
        "id": "9eb8e9c5"
      },
      "source": [
        "### 14-Given a number N and an array A of N numbers. Print the lowest number and its position.\n",
        "\n",
        "### Note: if there are more than one answer print first one's position."
      ]
    },
    {
      "cell_type": "code",
      "execution_count": null,
      "id": "018e01c8",
      "metadata": {
        "ExecuteTime": {
          "end_time": "2023-07-23T23:20:38.498527Z",
          "start_time": "2023-07-23T23:20:38.490451Z"
        },
        "id": "018e01c8",
        "colab": {
          "base_uri": "https://localhost:8080/"
        },
        "outputId": "51c48a5a-345f-46f6-a28b-368f4a1226e9"
      },
      "outputs": [
        {
          "output_type": "stream",
          "name": "stdout",
          "text": [
            "enter number:5\n",
            "enter numbers:\n",
            "50\n",
            "40\n",
            "20\n",
            "10\n",
            "30\n",
            "The lowest number is 10 and its position is 3\n"
          ]
        }
      ],
      "source": [
        "N = int(input(\"enter number:\"))\n",
        "A = []\n",
        "print(\"enter numbers:\")\n",
        "for i in range(N):\n",
        "    num = int(input())\n",
        "    A.append(num)\n",
        "    min_element = min(A)\n",
        "if min_element in A:\n",
        "    min_index = A.index(min_element)\n",
        "    print(\"The lowest number is\", min_element, \"and its position is\", min_index)\n",
        "else:\n",
        "    print(\"The lowest number is not in the array.\")\n"
      ]
    },
    {
      "cell_type": "markdown",
      "id": "f35d3427",
      "metadata": {
        "ExecuteTime": {
          "end_time": "2023-07-23T23:20:55.880128Z",
          "start_time": "2023-07-23T23:20:55.861804Z"
        },
        "id": "f35d3427"
      },
      "source": [
        "### 15-Given a number N and an array A of N numbers. Print the numbers after sorting them"
      ]
    },
    {
      "cell_type": "code",
      "execution_count": null,
      "id": "a6e0edd4",
      "metadata": {
        "ExecuteTime": {
          "end_time": "2023-07-23T23:46:13.340484Z",
          "start_time": "2023-07-23T23:46:13.324468Z"
        },
        "id": "a6e0edd4",
        "colab": {
          "base_uri": "https://localhost:8080/"
        },
        "outputId": "3fff4fea-3141-4ae0-908f-ae101c129bb5"
      },
      "outputs": [
        {
          "output_type": "stream",
          "name": "stdout",
          "text": [
            "enter number:5\n",
            "enter numbers:\n",
            "10\n",
            "50\n",
            "20\n",
            "40\n",
            "60\n",
            "[10, 20, 40, 50, 60]\n"
          ]
        }
      ],
      "source": [
        "N = int(input(\"enter number:\"))\n",
        "A = []\n",
        "print(\"enter numbers:\")\n",
        "for i in range(N):\n",
        "    num = int(input())\n",
        "    A.append(num)\n",
        "A.sort()\n",
        "print(A)"
      ]
    },
    {
      "cell_type": "markdown",
      "id": "a172f354",
      "metadata": {
        "ExecuteTime": {
          "end_time": "2023-07-23T23:46:15.127981Z",
          "start_time": "2023-07-23T23:46:15.108766Z"
        },
        "id": "a172f354"
      },
      "source": [
        "### 16- Write a Python program to remove spaces from a given string"
      ]
    },
    {
      "cell_type": "code",
      "execution_count": null,
      "id": "36d3569d",
      "metadata": {
        "ExecuteTime": {
          "end_time": "2023-07-23T23:50:06.443640Z",
          "start_time": "2023-07-23T23:50:01.592919Z"
        },
        "id": "36d3569d",
        "colab": {
          "base_uri": "https://localhost:8080/"
        },
        "outputId": "3ac517f1-f1ff-4491-9864-b2a1a20a7fa5"
      },
      "outputs": [
        {
          "output_type": "stream",
          "name": "stdout",
          "text": [
            "enter string:hello world\n",
            "helloworld\n"
          ]
        }
      ],
      "source": [
        "string = input(\"enter string:\")\n",
        "string = string.replace(\" \",\"\")\n",
        "print(string)"
      ]
    },
    {
      "cell_type": "markdown",
      "id": "a5470d49",
      "metadata": {
        "id": "a5470d49"
      },
      "source": [
        "### 17-write a Python program to swap first and last element of any list."
      ]
    },
    {
      "cell_type": "code",
      "execution_count": null,
      "id": "9d73887b",
      "metadata": {
        "ExecuteTime": {
          "end_time": "2023-07-23T23:50:59.283429Z",
          "start_time": "2023-07-23T23:50:59.272096Z"
        },
        "id": "9d73887b",
        "colab": {
          "base_uri": "https://localhost:8080/"
        },
        "outputId": "aa18d635-7636-438c-92c8-c7beac000994"
      },
      "outputs": [
        {
          "output_type": "stream",
          "name": "stdout",
          "text": [
            "enter list:4 5 6 7 8 \n",
            "['8', '5', '6', '7', '4']\n"
          ]
        }
      ],
      "source": [
        "list = input(\"enter list:\").split()\n",
        "if len(list) < 2:\n",
        "    print(\"The list needs to have at least two elements to swap.\")\n",
        "else:\n",
        " list[0],list[-1] = list[-1],list[0]\n",
        "print(list)"
      ]
    },
    {
      "cell_type": "markdown",
      "source": [
        "# **Write a Python Program to Find HCF.**\n",
        "## Highest Common Factor(HCF): HCF, or Highest Common Factor, is the largest positive integer that divides two or more numbers without leaving a remainder. Formula: For two numbers a and b, the HCF can be found using the formula:\n",
        "\n",
        "** HCF(𝑎, 𝑏) = GCD(𝑎, 𝑏)**\n",
        "For more than two numbers, you can find the HCF by taking the GCD of pairs of numbers at a time until you reach the last pair.\n",
        "\n",
        "# **Note: GCD stands for Greatest Common Divisor, use function.**\n"
      ],
      "metadata": {
        "id": "iS6JiE4uPbyH"
      },
      "id": "iS6JiE4uPbyH"
    },
    {
      "cell_type": "code",
      "source": [
        "num1 = int(input(\"enter first number:\"))\n",
        "num2 = int(input(\"enter second number:\"))\n",
        "for i in range(min(num1, num2), 0, -1):\n",
        "    if num1 % i == 0 and num2 % i == 0:\n",
        "        print(\"The HCF of\", num1, \"and\", num2, \"is\", i)\n",
        "\n"
      ],
      "metadata": {
        "id": "OOALRK1qzUuG",
        "outputId": "4227f686-e5aa-4e4d-a54e-2ad65231c7a9",
        "colab": {
          "base_uri": "https://localhost:8080/"
        }
      },
      "id": "OOALRK1qzUuG",
      "execution_count": 5,
      "outputs": [
        {
          "output_type": "stream",
          "name": "stdout",
          "text": [
            "enter first number:48\n",
            "enter second number:72\n",
            "The HCF of 48 and 72 is 24\n",
            "The HCF of 48 and 72 is 12\n",
            "The HCF of 48 and 72 is 8\n",
            "The HCF of 48 and 72 is 6\n",
            "The HCF of 48 and 72 is 4\n",
            "The HCF of 48 and 72 is 3\n",
            "The HCF of 48 and 72 is 2\n",
            "The HCF of 48 and 72 is 1\n"
          ]
        }
      ]
    }
  ],
  "metadata": {
    "kernelspec": {
      "display_name": "Python 3 (ipykernel)",
      "language": "python",
      "name": "python3"
    },
    "language_info": {
      "codemirror_mode": {
        "name": "ipython",
        "version": 3
      },
      "file_extension": ".py",
      "mimetype": "text/x-python",
      "name": "python",
      "nbconvert_exporter": "python",
      "pygments_lexer": "ipython3",
      "version": "3.9.12"
    },
    "colab": {
      "provenance": []
    }
  },
  "nbformat": 4,
  "nbformat_minor": 5
}