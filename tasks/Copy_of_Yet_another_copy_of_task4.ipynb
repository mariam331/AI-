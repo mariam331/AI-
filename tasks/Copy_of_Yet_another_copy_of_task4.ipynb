{
  "cells": [
    {
      "cell_type": "markdown",
      "id": "759d04ba",
      "metadata": {
        "id": "759d04ba"
      },
      "source": [
        "**1-Write a Python program to calculate the length of a string using 2 ways"
      ]
    },
    {
      "cell_type": "code",
      "execution_count": null,
      "id": "e434c950",
      "metadata": {
        "id": "e434c950",
        "outputId": "ae4202a1-327d-479d-a027-22a6ca88fd76",
        "colab": {
          "base_uri": "https://localhost:8080/"
        }
      },
      "outputs": [
        {
          "output_type": "stream",
          "name": "stdout",
          "text": [
            "Enter a string:mariam\n",
            "the length of string 6\n"
          ]
        }
      ],
      "source": [
        "s = input(\"Enter a string:\")\n",
        "print(\"the length of string\", len(s))"
      ]
    },
    {
      "cell_type": "code",
      "execution_count": null,
      "id": "7a2dfa32",
      "metadata": {
        "id": "7a2dfa32",
        "outputId": "b3c38a87-09de-4016-a957-95d6ccd3ef20",
        "colab": {
          "base_uri": "https://localhost:8080/"
        }
      },
      "outputs": [
        {
          "output_type": "stream",
          "name": "stdout",
          "text": [
            "Enter a string:mariam\n",
            "the length of string 6\n"
          ]
        }
      ],
      "source": [
        "s = input(\"Enter a string:\")\n",
        "count = 0\n",
        "for i in s:\n",
        "    count += 1\n",
        "print(\"the length of string\",count)\n"
      ]
    },
    {
      "cell_type": "markdown",
      "id": "d7cc9da7",
      "metadata": {
        "id": "d7cc9da7"
      },
      "source": [
        "**2-Write a Python program to get a string made of the first 2 and last 2 characters of a given string. If the string length is less than 2, return the empty string instead (\"##Sample String : 'w3resource'\n",
        "Expected Result : 'w3ce'\n",
        "##Sample String : 'w3'\n",
        "Expected Result : 'w3w3'\n",
        "##Sample String : ' w'\n",
        "Expected Result : Empty String)"
      ]
    },
    {
      "cell_type": "code",
      "execution_count": null,
      "id": "dafa9dd8",
      "metadata": {
        "id": "dafa9dd8",
        "outputId": "034a6786-0667-4163-cba0-01b0b5020784",
        "colab": {
          "base_uri": "https://localhost:8080/"
        }
      },
      "outputs": [
        {
          "output_type": "stream",
          "name": "stdout",
          "text": [
            "Enter the string:resource\n",
            "re ce\n"
          ]
        }
      ],
      "source": [
        "s = input(\"Enter the string:\")\n",
        "if len(s) < 2 :\n",
        "  print(\"empty string\")\n",
        "else:\n",
        "  print(s[:2] , s[-2:])\n"
      ]
    },
    {
      "cell_type": "markdown",
      "id": "1534f956",
      "metadata": {
        "id": "1534f956"
      },
      "source": [
        "**3-Write a Python program to add 'ing' at the end of a given string (length should be at least 3). If the given string already ends with 'ing', add 'ly' instead. If the string length of the given string is less than 3, leave it unchanged. (Sample String : 'abc'\n",
        "Expected Result : 'abcing')"
      ]
    },
    {
      "cell_type": "code",
      "execution_count": null,
      "id": "7ff8cec4",
      "metadata": {
        "id": "7ff8cec4",
        "outputId": "dad56976-b4db-4acd-e212-7fd430ad3eb7",
        "colab": {
          "base_uri": "https://localhost:8080/"
        }
      },
      "outputs": [
        {
          "output_type": "stream",
          "name": "stdout",
          "text": [
            "Enter the string:eat\n",
            "eating\n"
          ]
        }
      ],
      "source": [
        "s = input(\"Enter the string:\")\n",
        "if len(s) < 3 :\n",
        "  print(s)\n",
        "elif s.endswith(\"ing\"):\n",
        "    print(s + \"ly\")\n",
        "else:\n",
        "    print(s + \"ing\")"
      ]
    },
    {
      "cell_type": "markdown",
      "id": "1c0a6627",
      "metadata": {
        "id": "1c0a6627"
      },
      "source": [
        "**4-Write a Python function that takes a list of words and return the longest word and the length of the longest one\n",
        "(Longest word: Exercises\n",
        "Length of the longest word: 9)"
      ]
    },
    {
      "cell_type": "code",
      "source": [
        "def longest_word(words):\n",
        "  if not words:\n",
        "    return None\n",
        "  longest = max(words, key=len)\n",
        "  return longest , len(longest)\n",
        "s = input(\"Enter the words:\").split()\n",
        "longest , length = longest_word(s)\n",
        "print(\"Longest word:\", longest)\n",
        "print(\"Length of the longest word:\", length)"
      ],
      "metadata": {
        "id": "pGod2omNKY5q",
        "outputId": "d56a72ee-30ce-48aa-fdd8-305fb8f6f883",
        "colab": {
          "base_uri": "https://localhost:8080/"
        }
      },
      "id": "pGod2omNKY5q",
      "execution_count": null,
      "outputs": [
        {
          "output_type": "stream",
          "name": "stdout",
          "text": [
            "Enter the words:code python exercises\n",
            "Longest word: exercises\n",
            "Length of the longest word: 9\n"
          ]
        }
      ]
    },
    {
      "cell_type": "markdown",
      "id": "53a03a6a",
      "metadata": {
        "id": "53a03a6a"
      },
      "source": [
        "**5-Write a Python program to change a given string to a newly string where the first and last chars have been exchanged using 2 ways (Sample String:abca  Expected Result:ebce)"
      ]
    },
    {
      "cell_type": "code",
      "execution_count": null,
      "id": "fd327d2a",
      "metadata": {
        "id": "fd327d2a",
        "outputId": "ceb615cd-6635-4d05-a804-fd1bce13b778",
        "colab": {
          "base_uri": "https://localhost:8080/"
        }
      },
      "outputs": [
        {
          "output_type": "stream",
          "name": "stdout",
          "text": [
            "Enter the string:network\n",
            "ketworn\n"
          ]
        }
      ],
      "source": [
        "s = input(\"Enter the string:\")\n",
        "if len(s) < 2:\n",
        "  result1 = s\n",
        "else:\n",
        "  result1 = s[-1] + s[1:-1] + s[0]\n",
        "print(result1)\n"
      ]
    },
    {
      "cell_type": "code",
      "execution_count": null,
      "id": "285788b4",
      "metadata": {
        "id": "285788b4",
        "outputId": "89b6ec2f-521f-4cc1-c1ea-da519708f831",
        "colab": {
          "base_uri": "https://localhost:8080/"
        }
      },
      "outputs": [
        {
          "output_type": "stream",
          "name": "stdout",
          "text": [
            "Enter the string:computer\n",
            "romputec\n"
          ]
        }
      ],
      "source": [
        "s = input(\"Enter the string:\")\n",
        "if len(s) < 2:\n",
        "  result2 = s\n",
        "else:\n",
        "  chars = list(s)\n",
        "  chars[0], chars[-1] = chars[-1], chars[0]\n",
        "  result2 = ''.join(chars)\n",
        "print(result2)"
      ]
    },
    {
      "cell_type": "markdown",
      "id": "25f89808",
      "metadata": {
        "id": "25f89808"
      },
      "source": [
        "**6-Write a Python program to remove characters that have odd index values in a given string (Sample String:abca Expected Result:ac)"
      ]
    },
    {
      "cell_type": "code",
      "execution_count": null,
      "id": "05959bd7",
      "metadata": {
        "id": "05959bd7",
        "outputId": "70f0955f-cc75-44fe-82a7-9081f0a26655",
        "colab": {
          "base_uri": "https://localhost:8080/"
        }
      },
      "outputs": [
        {
          "output_type": "stream",
          "name": "stdout",
          "text": [
            "Enter the string:abca\n",
            "ac\n"
          ]
        }
      ],
      "source": [
        "s = input(\"Enter the string:\")\n",
        "result = \"\"\n",
        "for i in range(len(s)):\n",
        "  if i % 2 == 0:\n",
        "    result += s[i]\n",
        "print(result)"
      ]
    },
    {
      "cell_type": "markdown",
      "id": "eb16e898",
      "metadata": {
        "id": "eb16e898"
      },
      "source": [
        "**7-Write a Python program to count the occurrences of each word in a given sentence (Sample String:amr and ahmed are frindes but amr is the tallest Expected Result:2)"
      ]
    },
    {
      "cell_type": "code",
      "execution_count": null,
      "id": "01ce6cf5",
      "metadata": {
        "id": "01ce6cf5",
        "outputId": "cb357119-1876-4b3c-d991-02b416509a7d",
        "colab": {
          "base_uri": "https://localhost:8080/"
        }
      },
      "outputs": [
        {
          "output_type": "stream",
          "name": "stdout",
          "text": [
            "Enter the string:amr and ahmed are frindes but amr is the tallest\n",
            "amr : 2\n",
            "and : 1\n",
            "ahmed : 1\n",
            "are : 1\n",
            "frindes : 1\n",
            "but : 1\n",
            "is : 1\n",
            "the : 1\n",
            "tallest : 1\n"
          ]
        }
      ],
      "source": [
        "s = input(\"Enter the string:\")\n",
        "words = s.split()\n",
        "word_count = {}\n",
        "for word in words:\n",
        "  if word in word_count:\n",
        "    word_count[word] += 1\n",
        "  else:\n",
        "    word_count[word] = 1\n",
        "for word, count in word_count.items():\n",
        "    print(word, \":\", count)"
      ]
    },
    {
      "cell_type": "markdown",
      "id": "4e8125f1",
      "metadata": {
        "id": "4e8125f1"
      },
      "source": [
        "**8-Write a Python script that takes input from the user and displays that input back in upper and lower cases"
      ]
    },
    {
      "cell_type": "code",
      "execution_count": null,
      "id": "66c8f778",
      "metadata": {
        "id": "66c8f778",
        "outputId": "c08ca315-cb81-4fb5-88eb-4e521a166da0",
        "colab": {
          "base_uri": "https://localhost:8080/"
        }
      },
      "outputs": [
        {
          "output_type": "stream",
          "name": "stdout",
          "text": [
            "Enter the string:mariam\n",
            "MARIAM\n",
            "mariam\n"
          ]
        }
      ],
      "source": [
        "s = input(\"Enter the string:\")\n",
        "print(s.upper())\n",
        "print(s.lower())"
      ]
    },
    {
      "cell_type": "markdown",
      "id": "fcd68aa1",
      "metadata": {
        "id": "fcd68aa1"
      },
      "source": [
        "**9-Write a Python function to reverse a string if its length is a multiple of 4"
      ]
    },
    {
      "cell_type": "code",
      "execution_count": null,
      "id": "0671a931",
      "metadata": {
        "id": "0671a931",
        "outputId": "d926c820-d9fd-42e0-d58c-56867f0c88cd",
        "colab": {
          "base_uri": "https://localhost:8080/"
        }
      },
      "outputs": [
        {
          "output_type": "stream",
          "name": "stdout",
          "text": [
            "Enter the string:abcd\n",
            "dcba\n"
          ]
        }
      ],
      "source": [
        "def reverse_string(s):\n",
        "  if len(s) % 4 == 0:\n",
        "    return s[::-1]\n",
        "  else:\n",
        "    return s\n",
        "s = input(\"Enter the string:\")\n",
        "result = reverse_string(s)\n",
        "print(result)"
      ]
    },
    {
      "cell_type": "markdown",
      "id": "b577c68d",
      "metadata": {
        "id": "b577c68d"
      },
      "source": [
        "**10- Write a Python program to remove a newline in Python"
      ]
    },
    {
      "cell_type": "code",
      "execution_count": null,
      "id": "e0c6525a",
      "metadata": {
        "id": "e0c6525a",
        "outputId": "b3e41a9f-e080-4185-9173-286c94739245",
        "colab": {
          "base_uri": "https://localhost:8080/"
        }
      },
      "outputs": [
        {
          "output_type": "stream",
          "name": "stdout",
          "text": [
            "Enter the string:hello world\n",
            "hello world\n"
          ]
        }
      ],
      "source": [
        "s = input(\"Enter the string:\")\n",
        "result = s.replace(\"\\n\", \"\")\n",
        "print(result)"
      ]
    },
    {
      "cell_type": "markdown",
      "id": "80db5ae0",
      "metadata": {
        "id": "80db5ae0"
      },
      "source": [
        "**11-Write a Python program to check whether a string starts with specified characters"
      ]
    },
    {
      "cell_type": "code",
      "execution_count": null,
      "id": "0cc4e03e",
      "metadata": {
        "id": "0cc4e03e",
        "outputId": "25b364ab-8db9-4850-a4d7-301da1345120",
        "colab": {
          "base_uri": "https://localhost:8080/"
        }
      },
      "outputs": [
        {
          "output_type": "stream",
          "name": "stdout",
          "text": [
            "Enter the string:mariam magdy\n",
            "Enter the prefix:mariam\n",
            "yes\n"
          ]
        }
      ],
      "source": [
        "s = input(\"Enter the string:\")\n",
        "prefix = input(\"Enter the prefix:\")\n",
        "if s.startswith(prefix):\n",
        "  print(\"yes\")\n",
        "else:\n",
        "  print(\"no\")"
      ]
    },
    {
      "cell_type": "markdown",
      "id": "593a68db",
      "metadata": {
        "id": "593a68db"
      },
      "source": [
        "**12- Write a Python program to add prefix text to all of the lines in a string"
      ]
    },
    {
      "cell_type": "code",
      "execution_count": null,
      "id": "d2e46ada",
      "metadata": {
        "id": "d2e46ada",
        "colab": {
          "base_uri": "https://localhost:8080/"
        },
        "outputId": "e7ec296a-2c0f-4c6c-cf30-b070bf4d8ee9"
      },
      "outputs": [
        {
          "output_type": "stream",
          "name": "stdout",
          "text": [
            "Enter the string:code python\n",
            "Enter the prefix:ai\n",
            "aicode python\n"
          ]
        }
      ],
      "source": [
        "s = input(\"Enter the string:\")\n",
        "prefix = input(\"Enter the prefix:\")\n",
        "lines = s.splitlines()\n",
        "result = \"\\n\".join([prefix + line for line in lines])\n",
        "print(result)"
      ]
    },
    {
      "cell_type": "markdown",
      "id": "86fa1543",
      "metadata": {
        "id": "86fa1543"
      },
      "source": [
        "**13-Write a Python program to print the following numbers up to 2 decimal places"
      ]
    },
    {
      "cell_type": "code",
      "execution_count": null,
      "id": "cd4a9d89",
      "metadata": {
        "id": "cd4a9d89",
        "colab": {
          "base_uri": "https://localhost:8080/"
        },
        "outputId": "47b55a2e-4e49-4d4f-904f-91ed6f1e515d"
      },
      "outputs": [
        {
          "output_type": "stream",
          "name": "stdout",
          "text": [
            "Enter the number:3.141569\n",
            "3.14\n"
          ]
        }
      ],
      "source": [
        "num = float(input(\"Enter the number:\"))\n",
        "print(round(num, 2))"
      ]
    },
    {
      "cell_type": "markdown",
      "id": "452c0ab0",
      "metadata": {
        "id": "452c0ab0"
      },
      "source": [
        "**14-Write a Python program to print the following numbers up to 2 decimal places with a sign"
      ]
    },
    {
      "cell_type": "code",
      "execution_count": null,
      "id": "73e82479",
      "metadata": {
        "id": "73e82479",
        "colab": {
          "base_uri": "https://localhost:8080/"
        },
        "outputId": "01750177-8685-4ba0-9fcb-f67267e945ba"
      },
      "outputs": [
        {
          "output_type": "stream",
          "name": "stdout",
          "text": [
            "Enter the number:2.655\n",
            "+2.65\n"
          ]
        }
      ],
      "source": [
        "num = float(input(\"Enter the number:\"))\n",
        "print(f\"{num:+.2f}\")"
      ]
    },
    {
      "cell_type": "markdown",
      "id": "32b1811a",
      "metadata": {
        "id": "32b1811a"
      },
      "source": [
        "**15-Write a Python program to display a number with a comma separator"
      ]
    },
    {
      "cell_type": "code",
      "execution_count": null,
      "id": "f30fc0b6",
      "metadata": {
        "id": "f30fc0b6",
        "colab": {
          "base_uri": "https://localhost:8080/"
        },
        "outputId": "1f5741ed-0b03-4a83-80ea-e477f403f8ac"
      },
      "outputs": [
        {
          "output_type": "stream",
          "name": "stdout",
          "text": [
            "Enter the number:1235\n",
            "1,235\n"
          ]
        }
      ],
      "source": [
        "num = int(input(\"Enter the number:\"))\n",
        "print(f\"{num:,}\")"
      ]
    },
    {
      "cell_type": "markdown",
      "id": "0477f487",
      "metadata": {
        "id": "0477f487"
      },
      "source": [
        "**16-Write a Python program to reverse a string using 2 ways"
      ]
    },
    {
      "cell_type": "code",
      "source": [
        "s =input(\"Enter the string:\")\n",
        "print(s[::-1])"
      ],
      "metadata": {
        "colab": {
          "base_uri": "https://localhost:8080/"
        },
        "id": "vx-BbuAGaUqs",
        "outputId": "190bea20-a2f1-460d-ab47-c7a3207f77b3"
      },
      "id": "vx-BbuAGaUqs",
      "execution_count": null,
      "outputs": [
        {
          "output_type": "stream",
          "name": "stdout",
          "text": [
            "Enter the string:computer\n",
            "retupmoc\n"
          ]
        }
      ]
    },
    {
      "cell_type": "code",
      "execution_count": null,
      "id": "aa8beec8",
      "metadata": {
        "id": "aa8beec8",
        "colab": {
          "base_uri": "https://localhost:8080/"
        },
        "outputId": "fd5782dd-72fb-4f5d-8e18-feffa4893e5b"
      },
      "outputs": [
        {
          "output_type": "stream",
          "name": "stdout",
          "text": [
            "Enter the string:computer\n",
            "retupmoc\n"
          ]
        }
      ],
      "source": [
        "s = input(\"Enter the string:\")\n",
        "result = \"\"\n",
        "for i in s:\n",
        "  result = i + result\n",
        "print(result)"
      ]
    },
    {
      "cell_type": "markdown",
      "id": "5afc3166",
      "metadata": {
        "id": "5afc3166"
      },
      "source": [
        " **17-Write a Python program to count repeated characters in a string (hint:use dictionary)"
      ]
    },
    {
      "cell_type": "code",
      "source": [
        "s = input(\"Enter the string:\")\n",
        "char_count = {}\n",
        "for char in s:\n",
        "  if char in char_count:\n",
        "    char_count[char] += 1\n",
        "  else:\n",
        "    char_count[char] = 1\n",
        "for char, count in char_count.items():\n",
        "  if count > 1:\n",
        "    print(char, \":\", count)"
      ],
      "metadata": {
        "id": "EFMiZfHccQTw",
        "colab": {
          "base_uri": "https://localhost:8080/"
        },
        "outputId": "ee14e643-a1ee-471e-bb95-41e66a276409"
      },
      "id": "EFMiZfHccQTw",
      "execution_count": null,
      "outputs": [
        {
          "output_type": "stream",
          "name": "stdout",
          "text": [
            "Enter the string:my name is mariam\n",
            "m : 4\n",
            "  : 3\n",
            "a : 3\n",
            "i : 2\n"
          ]
        }
      ]
    },
    {
      "cell_type": "markdown",
      "id": "ae14e4e5",
      "metadata": {
        "id": "ae14e4e5"
      },
      "source": [
        "**18-Write a Python program to find the first non-repeating character in a given string"
      ]
    },
    {
      "cell_type": "code",
      "execution_count": null,
      "id": "d73778e5",
      "metadata": {
        "id": "d73778e5",
        "colab": {
          "base_uri": "https://localhost:8080/"
        },
        "outputId": "3cc0f406-24e8-4836-bcfc-5f9afab0dea8"
      },
      "outputs": [
        {
          "output_type": "stream",
          "name": "stdout",
          "text": [
            "Enter a string: level up\n",
            "First non-repeating character: v\n"
          ]
        }
      ],
      "source": [
        "s = input(\"Enter a string: \")\n",
        "\n",
        "char_count = {}\n",
        "for char in s:\n",
        "    if char in char_count:\n",
        "        char_count[char] += 1\n",
        "    else:\n",
        "        char_count[char] = 1\n",
        "for char in s:\n",
        "    if char_count[char] == 1:\n",
        "        print(\"First non-repeating character:\", char)\n",
        "        break\n",
        "else:\n",
        "    print(\"No non-repeating characters found.\")"
      ]
    },
    {
      "cell_type": "markdown",
      "id": "3adf5669",
      "metadata": {
        "id": "3adf5669"
      },
      "source": [
        "**19-Write a Python program to remove spaces from a given string"
      ]
    },
    {
      "cell_type": "code",
      "execution_count": null,
      "id": "b4f22602",
      "metadata": {
        "id": "b4f22602",
        "colab": {
          "base_uri": "https://localhost:8080/"
        },
        "outputId": "ebb157aa-ee54-4a04-a061-a640136d85cf"
      },
      "outputs": [
        {
          "output_type": "stream",
          "name": "stdout",
          "text": [
            "Enter the string:mariam magdy\n",
            "mariammagdy\n"
          ]
        }
      ],
      "source": [
        "s = input(\"Enter the string:\")\n",
        "result = s.replace(\" \", \"\")\n",
        "print(result)"
      ]
    },
    {
      "cell_type": "markdown",
      "id": "734de60c",
      "metadata": {
        "id": "734de60c"
      },
      "source": [
        "**20-Write a Python program to count the number of non-empty substrings of a given string"
      ]
    },
    {
      "cell_type": "code",
      "execution_count": null,
      "id": "ef3f2274",
      "metadata": {
        "id": "ef3f2274",
        "colab": {
          "base_uri": "https://localhost:8080/"
        },
        "outputId": "d06c9519-b4c3-4e54-8853-8c9bc2f78f4f"
      },
      "outputs": [
        {
          "output_type": "stream",
          "name": "stdout",
          "text": [
            "Enter the string:abc\n",
            "Number of non-empty substrings: 6\n"
          ]
        }
      ],
      "source": [
        "s = input(\"Enter the string:\")\n",
        "n = len(s)\n",
        "count = n * (n + 1) // 2\n",
        "print(\"Number of non-empty substrings:\",count)"
      ]
    },
    {
      "cell_type": "markdown",
      "id": "509998e2",
      "metadata": {
        "id": "509998e2"
      },
      "source": [
        "**21-write a Python program to swap first and last element of any list."
      ]
    },
    {
      "cell_type": "code",
      "execution_count": null,
      "id": "68692d7f",
      "metadata": {
        "id": "68692d7f",
        "colab": {
          "base_uri": "https://localhost:8080/"
        },
        "outputId": "9139438e-9cac-455e-d27d-125cedd151f9"
      },
      "outputs": [
        {
          "output_type": "stream",
          "name": "stdout",
          "text": [
            "Enter the list:10 20 30 40 50 60\n",
            "['60', '20', '30', '40', '50', '10']\n"
          ]
        }
      ],
      "source": [
        "list = input(\"Enter the list:\").split()\n",
        "list[0], list[-1] = list[-1], list[0]\n",
        "print(list)"
      ]
    },
    {
      "cell_type": "markdown",
      "id": "959e0837",
      "metadata": {
        "id": "959e0837"
      },
      "source": [
        "**22-Given a list in Python and provided the positions of the elements, write a program to swap the two elements in the list. (Input : List = [23, 65, 19, 90], pos1 = 1, pos2 = 3\n",
        "Output : [19, 65, 23, 90])"
      ]
    },
    {
      "cell_type": "code",
      "execution_count": null,
      "id": "225d8c6d",
      "metadata": {
        "id": "225d8c6d",
        "colab": {
          "base_uri": "https://localhost:8080/"
        },
        "outputId": "b274abd7-f381-4f4a-b0cf-cf9f8ea91f71"
      },
      "outputs": [
        {
          "output_type": "stream",
          "name": "stdout",
          "text": [
            "Enter the list:23 65 19 90\n",
            "Enter the first position:0\n",
            "Enter the second position:2\n",
            "['19', '65', '23', '90']\n"
          ]
        }
      ],
      "source": [
        "#list = [23,65,19,90]\n",
        "list = input(\"Enter the list:\").split()\n",
        "pos1 = int(input(\"Enter the first position:\"))\n",
        "pos2 = int(input(\"Enter the second position:\"))\n",
        "list[pos1], list[pos2] = list[pos2], list[pos1]\n",
        "print(list)"
      ]
    },
    {
      "cell_type": "markdown",
      "id": "66fc6682",
      "metadata": {
        "id": "66fc6682"
      },
      "source": [
        "**23- search for the all ways to know the length of the list"
      ]
    },
    {
      "cell_type": "code",
      "source": [
        "list = input(\"Enter the list:\").split()\n",
        "print(len(list))"
      ],
      "metadata": {
        "colab": {
          "base_uri": "https://localhost:8080/"
        },
        "id": "iWjkomj4PcSM",
        "outputId": "c0d86ee2-e1fc-4f33-fbc5-e80a55a61ccd"
      },
      "id": "iWjkomj4PcSM",
      "execution_count": null,
      "outputs": [
        {
          "output_type": "stream",
          "name": "stdout",
          "text": [
            "Enter the list:mariam mariam\n",
            "2\n"
          ]
        }
      ]
    },
    {
      "cell_type": "code",
      "source": [
        "list = input(\"Enter the list:\").split()\n",
        "count = 0\n",
        "for i in list:\n",
        "  count += 1\n",
        "print(count)"
      ],
      "metadata": {
        "colab": {
          "base_uri": "https://localhost:8080/"
        },
        "id": "XZLiuY1NPcLu",
        "outputId": "6c89f5f2-2efd-4159-b73c-efd6d386df5e"
      },
      "id": "XZLiuY1NPcLu",
      "execution_count": null,
      "outputs": [
        {
          "output_type": "stream",
          "name": "stdout",
          "text": [
            "Enter the list:i like ai\n",
            "3\n"
          ]
        }
      ]
    },
    {
      "cell_type": "code",
      "source": [
        "list = input(\"Enter the list:\").split()\n",
        "print(sum(1 for i in list))"
      ],
      "metadata": {
        "colab": {
          "base_uri": "https://localhost:8080/"
        },
        "id": "OIXav21VPcD-",
        "outputId": "dcee226e-7afe-4e5f-a2fb-b3da200bd046"
      },
      "id": "OIXav21VPcD-",
      "execution_count": null,
      "outputs": [
        {
          "output_type": "stream",
          "name": "stdout",
          "text": [
            "Enter the list:computer network\n",
            "2\n"
          ]
        }
      ]
    },
    {
      "cell_type": "code",
      "source": [
        "list = input(\"Enter the list:\").split()\n",
        "for i in range(len(list)):\n",
        "  pass\n",
        "print(i+1)"
      ],
      "metadata": {
        "colab": {
          "base_uri": "https://localhost:8080/"
        },
        "id": "zbUxun0mPb6t",
        "outputId": "19f7ecce-5dbe-4815-a1f1-3f78d51cc058"
      },
      "id": "zbUxun0mPb6t",
      "execution_count": null,
      "outputs": [
        {
          "output_type": "stream",
          "name": "stdout",
          "text": [
            "Enter the list:ai ai aia ia ai\n",
            "5\n"
          ]
        }
      ]
    },
    {
      "cell_type": "code",
      "source": [],
      "metadata": {
        "id": "0eABNbDKNVv7"
      },
      "id": "0eABNbDKNVv7",
      "execution_count": null,
      "outputs": []
    },
    {
      "cell_type": "code",
      "execution_count": null,
      "id": "63ff8b43",
      "metadata": {
        "id": "63ff8b43"
      },
      "outputs": [],
      "source": [
        "**24-write a Python code to find the Maximum number of list of numbers."
      ]
    },
    {
      "cell_type": "code",
      "execution_count": null,
      "id": "15f342de",
      "metadata": {
        "id": "15f342de",
        "colab": {
          "base_uri": "https://localhost:8080/"
        },
        "outputId": "6e66e16a-cd7b-48ef-f75c-b581f6b46cfc"
      },
      "outputs": [
        {
          "output_type": "stream",
          "name": "stdout",
          "text": [
            "Enter the list:10 80 50 40 90\n",
            "90\n"
          ]
        }
      ],
      "source": [
        "list = input(\"Enter the list:\").split()\n",
        "max_num = max(list)\n",
        "print(max_num)"
      ]
    },
    {
      "cell_type": "code",
      "execution_count": null,
      "id": "1a89b9d3",
      "metadata": {
        "id": "1a89b9d3"
      },
      "outputs": [],
      "source": [
        "**25-write a Python code to find the Minimum number of list of numbers."
      ]
    },
    {
      "cell_type": "code",
      "execution_count": null,
      "id": "21f8cbd6",
      "metadata": {
        "id": "21f8cbd6",
        "colab": {
          "base_uri": "https://localhost:8080/"
        },
        "outputId": "95e94d96-8d0d-430d-d72a-cdfd89c6668d"
      },
      "outputs": [
        {
          "output_type": "stream",
          "name": "stdout",
          "text": [
            "Enter the lisst:10 60 80 3 1\n",
            "1\n"
          ]
        }
      ],
      "source": [
        "list = input(\"Enter the lisst:\").split()\n",
        "min_num = min(list)\n",
        "print(min_num)"
      ]
    },
    {
      "cell_type": "markdown",
      "id": "96822d96",
      "metadata": {
        "id": "96822d96"
      },
      "source": [
        "**26-search for if an elem is existing in list"
      ]
    },
    {
      "cell_type": "code",
      "execution_count": null,
      "id": "51ca5c9a",
      "metadata": {
        "id": "51ca5c9a",
        "colab": {
          "base_uri": "https://localhost:8080/"
        },
        "outputId": "3297b1d8-7001-435c-e3a0-f635e2f8d027"
      },
      "outputs": [
        {
          "output_type": "stream",
          "name": "stdout",
          "text": [
            "Enter the list:10 60 50 90 40\n",
            "Enter the element:50\n",
            "element is existing in list\n",
            "2\n"
          ]
        }
      ],
      "source": [
        "list = input(\"Enter the list:\").split()\n",
        "elem = input(\"Enter the element:\")\n",
        "if elem in list:\n",
        "  print(\"element is existing in list\")\n",
        "  print(list.index(elem))\n",
        "else:\n",
        "  print(\"element is not existing in list\")"
      ]
    },
    {
      "cell_type": "markdown",
      "id": "d9557da7",
      "metadata": {
        "id": "d9557da7"
      },
      "source": [
        "**27- clear python list using different ways"
      ]
    },
    {
      "cell_type": "code",
      "source": [
        "list = input(\"Enter the list:\").split()\n",
        "list.clear()\n",
        "print(list)"
      ],
      "metadata": {
        "colab": {
          "base_uri": "https://localhost:8080/"
        },
        "id": "__IwdVmiSM8C",
        "outputId": "63732004-eca7-4392-aa3c-24b58aabdea4"
      },
      "id": "__IwdVmiSM8C",
      "execution_count": null,
      "outputs": [
        {
          "output_type": "stream",
          "name": "stdout",
          "text": [
            "Enter the list:10 50 30 50 90\n",
            "[]\n"
          ]
        }
      ]
    },
    {
      "cell_type": "code",
      "source": [
        "list = input(\"Enter the list:\").split()\n",
        "del list[:]\n",
        "print(list)"
      ],
      "metadata": {
        "colab": {
          "base_uri": "https://localhost:8080/"
        },
        "id": "k7wc_XYzSi7a",
        "outputId": "b9c48a41-7317-417d-9d3b-96e4b43979fa"
      },
      "id": "k7wc_XYzSi7a",
      "execution_count": null,
      "outputs": [
        {
          "output_type": "stream",
          "name": "stdout",
          "text": [
            "Enter the list:20 40 50 60 30\n",
            "[]\n"
          ]
        }
      ]
    },
    {
      "cell_type": "code",
      "source": [
        "list = input(\"Enter the list:\").split()\n",
        "list = []\n",
        "print(list)"
      ],
      "metadata": {
        "colab": {
          "base_uri": "https://localhost:8080/"
        },
        "id": "Lyh-a84ESz7C",
        "outputId": "9f696153-b339-4180-90f6-7683a779e1ba"
      },
      "id": "Lyh-a84ESz7C",
      "execution_count": null,
      "outputs": [
        {
          "output_type": "stream",
          "name": "stdout",
          "text": [
            "Enter the list:20 40 50 60 80\n",
            "[]\n"
          ]
        }
      ]
    },
    {
      "cell_type": "code",
      "source": [
        "list = input(\"Enter the list\").split()\n",
        "list[:] = []\n",
        "print(list)"
      ],
      "metadata": {
        "colab": {
          "base_uri": "https://localhost:8080/"
        },
        "id": "VTQ2xs39S7Gc",
        "outputId": "0e1113f0-f593-4940-e3cb-3c8fe13e8012"
      },
      "id": "VTQ2xs39S7Gc",
      "execution_count": null,
      "outputs": [
        {
          "output_type": "stream",
          "name": "stdout",
          "text": [
            "Enter the list10 50 60 70 90\n",
            "[]\n"
          ]
        }
      ]
    },
    {
      "cell_type": "code",
      "execution_count": null,
      "id": "b69858a3",
      "metadata": {
        "id": "b69858a3",
        "colab": {
          "base_uri": "https://localhost:8080/"
        },
        "outputId": "4456fdae-6a6e-43f0-eebc-3f250b3493d0"
      },
      "outputs": [
        {
          "output_type": "stream",
          "name": "stdout",
          "text": [
            "Enter the list:10 50 60 4080\n",
            "[]\n"
          ]
        }
      ],
      "source": [
        "list = input(\"Enter the list:\").split()\n",
        "while list:\n",
        "  list.pop()\n",
        "print(list)"
      ]
    },
    {
      "cell_type": "markdown",
      "id": "52160e88",
      "metadata": {
        "id": "52160e88"
      },
      "source": [
        "**28-remove duplicated elements from a list"
      ]
    },
    {
      "cell_type": "code",
      "execution_count": null,
      "id": "5e362228",
      "metadata": {
        "id": "5e362228",
        "colab": {
          "base_uri": "https://localhost:8080/"
        },
        "outputId": "a5dc0077-1ca2-46fe-8809-23960f9d1f65"
      },
      "outputs": [
        {
          "output_type": "stream",
          "name": "stdout",
          "text": [
            "Enter the list:1 2  2 3 4 1 5 6\n",
            "['1', '2', '3', '4', '5', '6']\n"
          ]
        }
      ],
      "source": [
        "list = input(\"Enter the list:\").split()\n",
        "unique_list = []\n",
        "for i in list:\n",
        "  if i not in unique_list:\n",
        "    unique_list.append(i)\n",
        "print(unique_list)"
      ]
    },
    {
      "cell_type": "markdown",
      "id": "282337f7",
      "metadata": {
        "id": "282337f7"
      },
      "source": [
        "**29-Given list values and keys list, convert these values to key value pairs in form of list of dictionaries. (Input : test_list = [“Gfg”, 3, “is”, 8], key_list = [“name”, “id”]\n",
        "Output : [{‘name’: ‘Gfg’, ‘id’: 3}, {‘name’: ‘is’, ‘id’: 8}])"
      ]
    },
    {
      "cell_type": "code",
      "execution_count": null,
      "id": "4d4e2d28",
      "metadata": {
        "id": "4d4e2d28",
        "colab": {
          "base_uri": "https://localhost:8080/"
        },
        "outputId": "c0edbe61-ab5b-43a8-ab47-51e9fb0381b3"
      },
      "outputs": [
        {
          "output_type": "stream",
          "name": "stdout",
          "text": [
            "Enter the list:Gfg 3 is 8\n",
            "Enter the key:name id name id\n",
            "[{'name': 'Gfg'}, {'id': '3'}, {'name': 'is'}, {'id': '8'}]\n"
          ]
        }
      ],
      "source": [
        "list = input(\"Enter the list:\").split()\n",
        "key = input(\"Enter the key:\").split()\n",
        "result = [{key[i]: list[i]} for i in range(len(key))]\n",
        "print(result)"
      ]
    },
    {
      "cell_type": "markdown",
      "id": "c26b6e9f",
      "metadata": {
        "id": "c26b6e9f"
      },
      "source": [
        "**30-write a python program to count unique values inside a list using different ways"
      ]
    },
    {
      "cell_type": "code",
      "source": [
        "list = input(\"Enter the list:\").split()\n",
        "unique_values = []\n",
        "for i in list:\n",
        "  if i not in unique_values:\n",
        "    unique_values.append(i)\n",
        "print(len(unique_values))"
      ],
      "metadata": {
        "colab": {
          "base_uri": "https://localhost:8080/"
        },
        "id": "4pRSR_RbWZAk",
        "outputId": "c11cd5b7-7aaf-42dc-a543-529e562c7f09"
      },
      "id": "4pRSR_RbWZAk",
      "execution_count": null,
      "outputs": [
        {
          "output_type": "stream",
          "name": "stdout",
          "text": [
            "Enter the list:1 3 5 1 5 2 3 \n",
            "4\n"
          ]
        }
      ]
    },
    {
      "cell_type": "code",
      "source": [
        "list = input(\"Enter the list:\").split()\n",
        "unique_values = set()\n",
        "for i in list:\n",
        "  unique_values.add(i)\n",
        "print(len(unique_values))"
      ],
      "metadata": {
        "colab": {
          "base_uri": "https://localhost:8080/"
        },
        "id": "SPckhFhTWYt-",
        "outputId": "a2073cc1-dfc2-4d54-d048-9bddd2077778"
      },
      "id": "SPckhFhTWYt-",
      "execution_count": null,
      "outputs": [
        {
          "output_type": "stream",
          "name": "stdout",
          "text": [
            "Enter the list:3 5 1 5 2 3\n",
            "4\n"
          ]
        }
      ]
    },
    {
      "cell_type": "code",
      "source": [
        "list = input(\"Enter the list:\").split()\n",
        "counter = counter(list)\n",
        "unique_values = len(counter)\n",
        "print(unique_values)"
      ],
      "metadata": {
        "id": "9Ir4gqzhXZaG"
      },
      "id": "9Ir4gqzhXZaG",
      "execution_count": null,
      "outputs": []
    },
    {
      "cell_type": "code",
      "execution_count": null,
      "id": "72132667",
      "metadata": {
        "id": "72132667",
        "colab": {
          "base_uri": "https://localhost:8080/"
        },
        "outputId": "59ca6d91-3266-4f2c-8d9e-87f1e5c72dc4"
      },
      "outputs": [
        {
          "output_type": "stream",
          "name": "stdout",
          "text": [
            "Enter the list:1 3 5 1 5 2 3\n",
            "4\n"
          ]
        }
      ],
      "source": [
        "list = input(\"Enter the list:\").split()\n",
        "unique_values = len(set(list))\n",
        "print(unique_values)"
      ]
    },
    {
      "cell_type": "markdown",
      "id": "fed6677c",
      "metadata": {
        "id": "fed6677c"
      },
      "source": [
        "**31-write a python program Extract all elements with Frequency greater than K (Input : test_list = [4, 6, 4, 3, 3, 4, 3, 4, 3, 8], K = 3\n",
        "Output : [4, 3] )"
      ]
    },
    {
      "cell_type": "code",
      "execution_count": null,
      "id": "d81f3f9d",
      "metadata": {
        "id": "d81f3f9d",
        "colab": {
          "base_uri": "https://localhost:8080/"
        },
        "outputId": "e59aa77b-f305-46c4-c2b4-9ec0d74bf1c0"
      },
      "outputs": [
        {
          "output_type": "stream",
          "name": "stdout",
          "text": [
            "Enter the list:4 6 4 3 3 4 3 4 3 8\n",
            "Enter the value of k:3\n",
            "['4', '3']\n"
          ]
        }
      ],
      "source": [
        "list = input(\"Enter the list:\").split()\n",
        "k = int(input(\"Enter the value of k:\"))\n",
        "freq = {}\n",
        "for i in list:\n",
        "  if i in freq:\n",
        "    freq[i] += 1\n",
        "  else:\n",
        "    freq[i] = 1\n",
        "result = [i for i in freq if freq[i] > k]\n",
        "print(result)"
      ]
    },
    {
      "cell_type": "markdown",
      "id": "caca5224",
      "metadata": {
        "id": "caca5224"
      },
      "source": [
        "**32-write a python program to find the Strongest Neighbour (Input: 1 2 2 3 4 5\n",
        "Output: 2 2 3 4 5)"
      ]
    },
    {
      "cell_type": "code",
      "execution_count": null,
      "id": "39fbd9b2",
      "metadata": {
        "id": "39fbd9b2",
        "colab": {
          "base_uri": "https://localhost:8080/"
        },
        "outputId": "eaed8356-2923-4ca1-bbd9-c630975458d5"
      },
      "outputs": [
        {
          "output_type": "stream",
          "name": "stdout",
          "text": [
            "Enter the list:1 2 2 3 4 5\n",
            "['2', '2', '3', '4', '5']\n"
          ]
        }
      ],
      "source": [
        "list = input(\"Enter the list:\").split()\n",
        "result = []\n",
        "for i in range(1, len(list)):\n",
        "  result.append(max(list[i-1], list[i]))\n",
        "print(result)"
      ]
    },
    {
      "cell_type": "markdown",
      "id": "a9fa8baf",
      "metadata": {
        "id": "a9fa8baf"
      },
      "source": [
        "**33-write a Python Program to print all Possible Combinations from the three Digits (Input: [1, 2, 3]\n",
        "Output:\n",
        "1 2 3 ##\n",
        "1 3 2 ##\n",
        "2 1 3 ##\n",
        "2 3 1 ##\n",
        "3 1 2 ##\n",
        "3 2 1)"
      ]
    },
    {
      "cell_type": "code",
      "execution_count": null,
      "id": "8c520a76",
      "metadata": {
        "id": "8c520a76",
        "colab": {
          "base_uri": "https://localhost:8080/"
        },
        "outputId": "345d32dd-dd2f-4be8-cbba-890b3b425a70"
      },
      "outputs": [
        {
          "output_type": "stream",
          "name": "stdout",
          "text": [
            "Enter the list: 1 2 3\n",
            "1 2 3 ## 1 3 2 ## 2 1 3 ## 2 3 1 ## 3 1 2 ## 3 2 1 ## "
          ]
        }
      ],
      "source": [
        "list = input(\"Enter the list:\").split()\n",
        "for i in list:\n",
        "    for j in list:\n",
        "        for k in list:\n",
        "            if i != j and j != k and i != k:\n",
        "                print(i, j, k, \"##\", end=' ')"
      ]
    },
    {
      "cell_type": "markdown",
      "id": "5288bb89",
      "metadata": {
        "id": "5288bb89"
      },
      "source": [
        "**34-write a Python program to find all the Combinations in the list with the given condition (Input: test_list = [1,2,3]\n",
        "Output:\n",
        " [1], [1, 2], [1, 2, 3], [1, 3]\n",
        " [2], [2, 3], [3])"
      ]
    },
    {
      "cell_type": "code",
      "execution_count": null,
      "id": "59b89646",
      "metadata": {
        "id": "59b89646",
        "colab": {
          "base_uri": "https://localhost:8080/"
        },
        "outputId": "f0e1ad9c-fb9e-4d18-e70e-bd0777d252b8"
      },
      "outputs": [
        {
          "output_type": "stream",
          "name": "stdout",
          "text": [
            "Enter the list:1 2 3\n",
            "[['1'], ['1', '2'], ['1', '2', '3'], ['2'], ['2', '3'], ['3']]\n"
          ]
        }
      ],
      "source": [
        "list = input(\"Enter the list:\").split()\n",
        "result = []\n",
        "for i in range(len(list)):\n",
        "  for j in range(i, len(list)):\n",
        "    result.append(list[i:j+1])\n",
        "print(result)"
      ]
    },
    {
      "cell_type": "markdown",
      "id": "39973705",
      "metadata": {
        "id": "39973705"
      },
      "source": [
        "**35-write a Python program to get all unique combinations of two Lists (List_1 = [\"a\",\"b\"]\n",
        "List_2 = [1,2]\n",
        "Unique_combination = [[('a',1),('b',2)],[('a',2),('b',1)]] )"
      ]
    },
    {
      "cell_type": "code",
      "execution_count": null,
      "id": "8c4ba22b",
      "metadata": {
        "id": "8c4ba22b",
        "colab": {
          "base_uri": "https://localhost:8080/"
        },
        "outputId": "96653c7f-46f0-4281-f0c5-431eac1003a6"
      },
      "outputs": [
        {
          "output_type": "stream",
          "name": "stdout",
          "text": [
            "Enter the list1:a b \n",
            "Enter the list2:1 2\n",
            "[('a', '1'), ('a', '2'), ('b', '1'), ('b', '2')]\n"
          ]
        }
      ],
      "source": [
        "list1 = input(\"Enter the list1:\").split()\n",
        "list2 = input(\"Enter the list2:\").split()\n",
        "result = []\n",
        "for i in list1:\n",
        "  for j in list2:\n",
        "    result.append((i,j))\n",
        "print(result)"
      ]
    },
    {
      "cell_type": "markdown",
      "id": "25199af5",
      "metadata": {
        "id": "25199af5"
      },
      "source": [
        "**36-Remove all the occurrences of an element from a list in Python (Input : 1 1 2 3 4 5 1 2 1\n",
        "\n",
        "**Output : 2 3 4 5 2)"
      ]
    },
    {
      "cell_type": "code",
      "execution_count": null,
      "id": "6dc4c2ba",
      "metadata": {
        "id": "6dc4c2ba",
        "colab": {
          "base_uri": "https://localhost:8080/"
        },
        "outputId": "c914471a-09d3-4c08-a409-55150ca3eb32"
      },
      "outputs": [
        {
          "output_type": "stream",
          "name": "stdout",
          "text": [
            "Enter the list:1 1 2 3 4 5 1 2 1\n",
            "Enter the element:1\n",
            "['2', '3', '4', '5', '2']\n"
          ]
        }
      ],
      "source": [
        "list = input(\"Enter the list:\").split()\n",
        "elem = input(\"Enter the element:\")\n",
        "result = []\n",
        "for i in list:\n",
        "  if i != elem:\n",
        "    result.append(i)\n",
        "print(result)"
      ]
    },
    {
      "cell_type": "markdown",
      "id": "bf1a3c93",
      "metadata": {
        "id": "bf1a3c93"
      },
      "source": [
        "**37-write a python program to Replace index elements with elements in Other List (The original list 1 is : [‘Gfg’, ‘is’, ‘best’] The original list 2 is : [0, 1, 2, 1, 0, 0, 0, 2, 1, 1, 2, 0] The lists after index elements replacements is : [‘Gfg’, ‘is’, ‘best’, ‘is’, ‘Gfg’, ‘Gfg’, ‘Gfg’, ‘best’, ‘is’, ‘is’, ‘best’, ‘Gfg’])"
      ]
    },
    {
      "cell_type": "code",
      "execution_count": null,
      "id": "fdd66a71",
      "metadata": {
        "id": "fdd66a71",
        "colab": {
          "base_uri": "https://localhost:8080/"
        },
        "outputId": "00a77198-ff61-4f0e-e0c3-4c45060123ff"
      },
      "outputs": [
        {
          "output_type": "stream",
          "name": "stdout",
          "text": [
            "['Gfg', 'is', 'best', 'is', 'Gfg', 'Gfg', 'Gfg', 'best', 'is', 'is', 'best', 'Gfg']\n"
          ]
        }
      ],
      "source": [
        "list1 = ['Gfg', 'is', 'best']\n",
        "list2 = [0, 1, 2, 1, 0, 0, 0, 2, 1, 1, 2, 0]\n",
        "result = []\n",
        "for i in list2:\n",
        "  result.append(list1[i])\n",
        "print(result)"
      ]
    },
    {
      "cell_type": "markdown",
      "id": "af0f56e8",
      "metadata": {
        "id": "af0f56e8"
      },
      "source": [
        "**38- write python program to Retain records with N occurrences of K(Input : test_list = [(4, 5, 5, 4), (5, 4, 3)], K = 5, N = 2\n",
        "Output : [(4, 5, 5, 4)]\n",
        "Input : test_list = [(4, 5, 5, 4), (5, 4, 3)], K = 5, N = 3\n",
        "Output : [] )"
      ]
    },
    {
      "cell_type": "code",
      "source": [
        "test_list = [(4, 5, 5, 4), (5, 4, 3)]\n",
        "K = 5\n",
        "N = 2\n",
        "result = [tpl for tpl in test_list if tpl.count(K) == N]\n",
        "print(result)"
      ],
      "metadata": {
        "colab": {
          "base_uri": "https://localhost:8080/"
        },
        "id": "Gs8Cp8IGiH8U",
        "outputId": "02cc0bf5-d7c1-4141-dae4-2b0a690e09b4"
      },
      "id": "Gs8Cp8IGiH8U",
      "execution_count": null,
      "outputs": [
        {
          "output_type": "stream",
          "name": "stdout",
          "text": [
            "[(4, 5, 5, 4)]\n"
          ]
        }
      ]
    },
    {
      "cell_type": "code",
      "execution_count": null,
      "id": "67b06671",
      "metadata": {
        "id": "67b06671",
        "colab": {
          "base_uri": "https://localhost:8080/"
        },
        "outputId": "ebb6faa8-5c26-4a83-c71d-fdb1186ed8ef"
      },
      "outputs": [
        {
          "output_type": "stream",
          "name": "stdout",
          "text": [
            "[]\n"
          ]
        }
      ],
      "source": [
        "test_list = [(4, 5, 5, 4), (5, 4, 3)]\n",
        "K = 5\n",
        "N = 3\n",
        "result = [tpl for tpl in test_list if tpl.count(K) == N]\n",
        "print(result)"
      ]
    },
    {
      "cell_type": "markdown",
      "id": "de76f183",
      "metadata": {
        "id": "de76f183"
      },
      "source": [
        "**39-write a Python Program to Sort the list according to the column using lambda\n",
        "array = [[1, 3, 3], [2, 1, 2], [3, 2, 1]]\n",
        "Output :\n",
        "Sorted array specific to column 0, [[1, 3, 3], [2, 1, 2], [3, 2, 1]]\n",
        "Sorted array specific to column 1, [[2, 1, 2], [3, 2, 1], [1, 3, 3]]\n",
        "Sorted array specific to column 2, [[3, 2, 1], [2, 1, 2], [1, 3, 3]]"
      ]
    },
    {
      "cell_type": "code",
      "execution_count": null,
      "id": "dc883308",
      "metadata": {
        "id": "dc883308",
        "colab": {
          "base_uri": "https://localhost:8080/"
        },
        "outputId": "90520054-f12b-4e54-8fb4-0baaa7ab92c4"
      },
      "outputs": [
        {
          "output_type": "stream",
          "name": "stdout",
          "text": [
            "Sorted by column 0: [[1, 3, 3], [2, 1, 2], [3, 2, 1]]\n",
            "Sorted by column 1: [[2, 1, 2], [3, 2, 1], [1, 3, 3]]\n",
            "Sorted by column 2: [[3, 2, 1], [2, 1, 2], [1, 3, 3]]\n"
          ]
        }
      ],
      "source": [
        "array = [[1, 3, 3], [2, 1, 2], [3, 2, 1]]\n",
        "sorted_col0 = sorted(array, key=lambda x: x[0])\n",
        "print(\"Sorted by column 0:\", sorted_col0)\n",
        "sorted_col1 = sorted(array, key=lambda x: x[1])\n",
        "print(\"Sorted by column 1:\", sorted_col1)\n",
        "sorted_col2 = sorted(array, key=lambda x: x[2])\n",
        "print(\"Sorted by column 2:\", sorted_col2)"
      ]
    },
    {
      "cell_type": "code",
      "execution_count": null,
      "id": "d2e7b31f",
      "metadata": {
        "id": "d2e7b31f"
      },
      "outputs": [],
      "source": [
        "**40- write a program to Sort Python Dictionaries by Key or Value\n",
        "Input:\n",
        "{'ravi': 10, 'rajnish': 9, 'sanjeev': 15, 'yash': 2, 'suraj': 32}\n",
        "\n",
        "Output:\n",
        "{'rajnish': 9, 'ravi': 10, 'sanjeev': 15, 'suraj': 32, 'yash': 2}"
      ]
    },
    {
      "cell_type": "code",
      "execution_count": null,
      "id": "a96db4a0",
      "metadata": {
        "id": "a96db4a0",
        "colab": {
          "base_uri": "https://localhost:8080/"
        },
        "outputId": "9345b6a0-bf88-4617-a96f-ab1516427fcd"
      },
      "outputs": [
        {
          "output_type": "stream",
          "name": "stdout",
          "text": [
            "{'rajnish': 9, 'ravi': 10, 'sanjeev': 15, 'suraj': 32, 'yash': 2}\n"
          ]
        }
      ],
      "source": [
        "input_dict = {'ravi': 10, 'rajnish': 9, 'sanjeev': 15, 'yash': 2, 'suraj': 32}\n",
        "sorted_dict = dict(sorted(input_dict.items()))\n",
        "print(sorted_dict)"
      ]
    },
    {
      "cell_type": "markdown",
      "id": "ec63c23a",
      "metadata": {
        "id": "ec63c23a"
      },
      "source": [
        "**41-write python program to Remove keys with Values Greater than K ( Including mixed values )\n",
        "nput : test_dict = {‘Gfg’ : 3, ‘is’ : 7, ‘best’ : 10, ‘for’ : 6, ‘geeks’ : ‘CS’},\n",
        "K = 7\n",
        "Output : {‘Gfg’ : 3, ‘for’ : 6, ‘geeks’ : ‘CS’}"
      ]
    },
    {
      "cell_type": "code",
      "execution_count": null,
      "id": "e39c3a40",
      "metadata": {
        "id": "e39c3a40",
        "colab": {
          "base_uri": "https://localhost:8080/"
        },
        "outputId": "89f40ccc-bd55-4cbc-bd85-5bccb449f3ac"
      },
      "outputs": [
        {
          "output_type": "stream",
          "name": "stdout",
          "text": [
            "{'Gfg': 3, 'is': 7, 'for': 6, 'geeks': 'CS'}\n"
          ]
        }
      ],
      "source": [
        "dict = {'Gfg' : 3, 'is' : 7, 'best' : 10, 'for' : 6, 'geeks' : 'CS'}\n",
        "K = 7\n",
        "result = {k: v for k, v in dict.items() if not (isinstance(v, int) and v > K)}\n",
        "print(result)"
      ]
    },
    {
      "cell_type": "markdown",
      "id": "f143f0fe",
      "metadata": {
        "id": "f143f0fe"
      },
      "source": [
        "**42-Write a Python program to concatenate the following dictionaries to create a new one\n",
        "\n",
        "Sample Dictionary :\n",
        "dic1={1:10, 2:20}\n",
        "dic2={3:30, 4:40}\n",
        "dic3={5:50,6:60}\n",
        "Expected Result : {1: 10, 2: 20, 3: 30, 4: 40, 5: 50, 6: 60}"
      ]
    },
    {
      "cell_type": "code",
      "execution_count": null,
      "id": "74ffdfea",
      "metadata": {
        "id": "74ffdfea",
        "colab": {
          "base_uri": "https://localhost:8080/"
        },
        "outputId": "c0a5d101-0844-4acc-c37d-8e980d13d536"
      },
      "outputs": [
        {
          "output_type": "stream",
          "name": "stdout",
          "text": [
            "{1: 10, 2: 20, 3: 30, 4: 40, 5: 50, 6: 60}\n"
          ]
        }
      ],
      "source": [
        "dict1 = {1:10, 2:20}\n",
        "dict2 = {3:30, 4:40}\n",
        "dict3 = {5:50, 6:60}\n",
        "result = {}\n",
        "for d in (dict1, dict2, dict3):\n",
        "  result.update(d)\n",
        "print(result)"
      ]
    },
    {
      "cell_type": "markdown",
      "id": "fb04c93c",
      "metadata": {
        "id": "fb04c93c"
      },
      "source": [
        "**43-Write a Python program to iterate over dictionaries using for loops"
      ]
    },
    {
      "cell_type": "code",
      "execution_count": null,
      "id": "6aebc470",
      "metadata": {
        "id": "6aebc470",
        "colab": {
          "base_uri": "https://localhost:8080/"
        },
        "outputId": "3e1b0374-696f-4545-b0d1-6b666cda70f9"
      },
      "outputs": [
        {
          "output_type": "stream",
          "name": "stdout",
          "text": [
            "a 10\n",
            "b 5\n",
            "c 30\n",
            "d 15\n"
          ]
        }
      ],
      "source": [
        "dict = {'a': 10, 'b': 5, 'c': 30, 'd': 15}\n",
        "for key, value in dict.items():\n",
        "  print(key, value)"
      ]
    },
    {
      "cell_type": "markdown",
      "id": "5f491a9d",
      "metadata": {
        "id": "5f491a9d"
      },
      "source": [
        "**44- Write a Python script to merge two Python dictionaries"
      ]
    },
    {
      "cell_type": "code",
      "execution_count": null,
      "id": "b8a14028",
      "metadata": {
        "id": "b8a14028",
        "colab": {
          "base_uri": "https://localhost:8080/"
        },
        "outputId": "c181d84a-600a-43de-cb25-131e5d646e5b"
      },
      "outputs": [
        {
          "output_type": "stream",
          "name": "stdout",
          "text": [
            "{'a': 10, 'b': 5, 'c': 30, 'd': 15, 'e': 20, 'f': 10, 'g': 40, 'h': 25}\n"
          ]
        }
      ],
      "source": [
        "dict1 = {'a': 10, 'b': 5, 'c': 30, 'd': 15}\n",
        "dict2 = {'e': 20, 'f': 10, 'g': 40, 'h': 25}\n",
        "dict1.update(dict2)\n",
        "print(dict1)"
      ]
    },
    {
      "cell_type": "markdown",
      "id": "216fc72d",
      "metadata": {
        "id": "216fc72d"
      },
      "source": [
        "**45-Write a Python program to get the maximum and minimum values of a dictionary values"
      ]
    },
    {
      "cell_type": "code",
      "execution_count": null,
      "id": "d6883f5f",
      "metadata": {
        "id": "d6883f5f",
        "colab": {
          "base_uri": "https://localhost:8080/"
        },
        "outputId": "d5559ea0-349e-4a49-acb3-7bbf2d5ca540"
      },
      "outputs": [
        {
          "output_type": "stream",
          "name": "stdout",
          "text": [
            "Maximum value: 30\n",
            "Minimum value: 5\n"
          ]
        }
      ],
      "source": [
        "dict = {'a': 10, 'b': 5, 'c': 30, 'd': 15}\n",
        "max_value = max(dict.values())\n",
        "min_value = min(dict.values())\n",
        "print(\"Maximum value:\", max_value)\n",
        "print(\"Minimum value:\", min_value)"
      ]
    },
    {
      "cell_type": "markdown",
      "id": "b6a53011",
      "metadata": {
        "id": "b6a53011"
      },
      "source": [
        "**46- Write a Python program to drop empty items from a given dictionary.\n",
        "Original Dictionary:\n",
        "{'c1': 'Red', 'c2': 'Green', 'c3': None}\n",
        "New Dictionary after dropping empty items:\n",
        "{'c1': 'Red', 'c2': 'Green'}"
      ]
    },
    {
      "cell_type": "code",
      "execution_count": null,
      "id": "b5c6fecf",
      "metadata": {
        "id": "b5c6fecf",
        "colab": {
          "base_uri": "https://localhost:8080/"
        },
        "outputId": "205be042-c334-4aa6-9c0c-b32c33b1f3f3"
      },
      "outputs": [
        {
          "output_type": "stream",
          "name": "stdout",
          "text": [
            "{'c1': 'Red', 'c2': 'Green'}\n"
          ]
        }
      ],
      "source": [
        "dict = {'c1': 'Red', 'c2': 'Green', 'c3': None}\n",
        "result = {key: value for key, value in dict.items() if value is not None}\n",
        "print(result)"
      ]
    },
    {
      "cell_type": "markdown",
      "id": "46d718c7",
      "metadata": {
        "id": "46d718c7"
      },
      "source": [
        "**47-Write a Python program to create a tuple of numbers and print one item"
      ]
    },
    {
      "cell_type": "code",
      "execution_count": null,
      "id": "13216ff5",
      "metadata": {
        "id": "13216ff5",
        "colab": {
          "base_uri": "https://localhost:8080/"
        },
        "outputId": "93c323be-c19a-41af-e83f-2a1ffffbc509"
      },
      "outputs": [
        {
          "output_type": "stream",
          "name": "stdout",
          "text": [
            "Enter the tuple:10 50 60 80 60 \n",
            "10\n"
          ]
        }
      ],
      "source": [
        "tuple = input(\"Enter the tuple:\").split()\n",
        "print(tuple[0])"
      ]
    },
    {
      "cell_type": "markdown",
      "id": "2be5b56b",
      "metadata": {
        "id": "2be5b56b"
      },
      "source": [
        "**48-Write a Python program to unpack a tuple into several variables"
      ]
    },
    {
      "cell_type": "code",
      "execution_count": null,
      "id": "595f44be",
      "metadata": {
        "id": "595f44be",
        "colab": {
          "base_uri": "https://localhost:8080/"
        },
        "outputId": "aa077b61-42c1-4c66-d4ef-018a752bec62"
      },
      "outputs": [
        {
          "output_type": "stream",
          "name": "stdout",
          "text": [
            "Enter the tuple:10 20 30 40\n",
            "10 20 30 40\n"
          ]
        }
      ],
      "source": [
        "tuple = input(\"Enter the tuple:\").split()\n",
        "a, b, c ,d = tuple\n",
        "print(a, b, c, d)"
      ]
    },
    {
      "cell_type": "markdown",
      "id": "392388a7",
      "metadata": {
        "id": "392388a7"
      },
      "source": [
        "**49-Write a Python program to add an item to a tuple"
      ]
    },
    {
      "cell_type": "code",
      "execution_count": null,
      "id": "54cc092e",
      "metadata": {
        "id": "54cc092e",
        "colab": {
          "base_uri": "https://localhost:8080/"
        },
        "outputId": "98fa85f0-6bf5-4578-f551-46cae673ef63"
      },
      "outputs": [
        {
          "output_type": "stream",
          "name": "stdout",
          "text": [
            "Enter the tuple: 10 20 30 50\n",
            "Enter the item to add: 40 60 90\n",
            "Updated Tuple: ('10', '20', '30', '50', '40 60 90')\n"
          ]
        }
      ],
      "source": [
        "user_input = input(\"Enter the tuple: \").split()\n",
        "item = input(\"Enter the item to add: \")\n",
        "my_tuple = tuple(user_input) + (item,)\n",
        "print(\"Updated Tuple:\", my_tuple)"
      ]
    },
    {
      "cell_type": "markdown",
      "id": "3e8fd124",
      "metadata": {
        "id": "3e8fd124"
      },
      "source": [
        "**50-Write a Python program to convert a tuple to a string"
      ]
    },
    {
      "cell_type": "code",
      "execution_count": null,
      "id": "92a71ddc",
      "metadata": {
        "id": "92a71ddc",
        "colab": {
          "base_uri": "https://localhost:8080/"
        },
        "outputId": "ef54c183-48f8-4dc5-82ea-b165b79f1d81"
      },
      "outputs": [
        {
          "output_type": "stream",
          "name": "stdout",
          "text": [
            "Enter the tuple:h e l l o\n",
            "hello\n"
          ]
        }
      ],
      "source": [
        "tuple = input(\"Enter the tuple:\").split()\n",
        "string = ''.join(tuple)\n",
        "print(string)"
      ]
    },
    {
      "cell_type": "markdown",
      "id": "f4f64ef4",
      "metadata": {
        "id": "f4f64ef4"
      },
      "source": [
        "**51-Write a Python program to convert a list to a tuple"
      ]
    },
    {
      "cell_type": "code",
      "execution_count": null,
      "id": "210d56d3",
      "metadata": {
        "id": "210d56d3",
        "colab": {
          "base_uri": "https://localhost:8080/"
        },
        "outputId": "7a2a4e3b-1eba-412f-9808-8e897e53553f"
      },
      "outputs": [
        {
          "output_type": "stream",
          "name": "stdout",
          "text": [
            "Enter the list elements (space-separated): m a r i a m\n",
            "('m', 'a', 'r', 'i', 'a', 'm')\n"
          ]
        }
      ],
      "source": [
        "user_input = input(\"Enter the list elements (space-separated): \").split()\n",
        "result_tuple = tuple(user_input)\n",
        "print(result_tuple)\n"
      ]
    },
    {
      "cell_type": "markdown",
      "id": "b1e00ef7",
      "metadata": {
        "id": "b1e00ef7"
      },
      "source": [
        "**52-Write a Python program to reverse a tuple"
      ]
    },
    {
      "cell_type": "code",
      "execution_count": null,
      "id": "f45bfdc7",
      "metadata": {
        "id": "f45bfdc7",
        "colab": {
          "base_uri": "https://localhost:8080/"
        },
        "outputId": "0e167451-5c5c-4efb-a6ca-e27155debba0"
      },
      "outputs": [
        {
          "output_type": "stream",
          "name": "stdout",
          "text": [
            "Enter the tuple:1 2 2 3 4 5\n",
            "['5', '4', '3', '2', '2', '1']\n"
          ]
        }
      ],
      "source": [
        "tuple = input(\"Enter the tuple:\").split()\n",
        "tuple = tuple[::-1]\n",
        "print(tuple)"
      ]
    },
    {
      "cell_type": "markdown",
      "id": "3cd347d1",
      "metadata": {
        "id": "3cd347d1"
      },
      "source": [
        "**53-Write a Python program to replace the last value of tuples in a list.\n",
        "Sample list: [(10, 20, 40), (40, 50, 60), (70, 80, 90)]\n",
        "Expected Output: [(10, 20, 100), (40, 50, 100), (70, 80, 100)]"
      ]
    },
    {
      "cell_type": "code",
      "execution_count": null,
      "id": "3c4a2a4c",
      "metadata": {
        "id": "3c4a2a4c",
        "colab": {
          "base_uri": "https://localhost:8080/"
        },
        "outputId": "36aa6934-9fa8-48ff-b121-5de04c3b00e0"
      },
      "outputs": [
        {
          "output_type": "stream",
          "name": "stdout",
          "text": [
            "[(10, 20, 100), (40, 50, 100), (70, 80, 100)]\n"
          ]
        }
      ],
      "source": [
        "list = [(10, 20, 40), (40, 50, 60), (70, 80, 90)]\n",
        "new_value = 100\n",
        "result = []\n",
        "for i in list:\n",
        "  result.append(i[:-1] + (new_value,))\n",
        "print(result)"
      ]
    },
    {
      "cell_type": "markdown",
      "id": "76bb7b39",
      "metadata": {
        "id": "76bb7b39"
      },
      "source": [
        "**54-Write a Python program to convert a given string list to a tuple\n",
        "Original string: python 3.0\n",
        "<class 'str'>\n",
        "Convert the said string to a tuple:\n",
        "('p', 'y', 't', 'h', 'o', 'n', '3', '.', '0')"
      ]
    },
    {
      "cell_type": "code",
      "execution_count": null,
      "id": "51951937",
      "metadata": {
        "id": "51951937",
        "colab": {
          "base_uri": "https://localhost:8080/"
        },
        "outputId": "c4f20994-468e-499d-f1a6-2388b700515c"
      },
      "outputs": [
        {
          "output_type": "stream",
          "name": "stdout",
          "text": [
            "Original string: python 3.0\n",
            "Converted tuple: ('p', 'y', 't', 'h', 'o', 'n', ' ', '3', '.', '0')\n"
          ]
        }
      ],
      "source": [
        "original_string = \"python 3.0\"\n",
        "result_tuple = tuple(original_string)\n",
        "print(\"Original string:\", original_string)\n",
        "print(\"Converted tuple:\", result_tuple)"
      ]
    },
    {
      "cell_type": "markdown",
      "id": "5a1d5d97",
      "metadata": {
        "id": "5a1d5d97"
      },
      "source": [
        "**55-Write a Python program to calculate the average value of the numbers in a given tuple of tuples"
      ]
    },
    {
      "cell_type": "code",
      "execution_count": null,
      "id": "834e7992",
      "metadata": {
        "id": "834e7992",
        "colab": {
          "base_uri": "https://localhost:8080/"
        },
        "outputId": "d5e068de-a79c-4558-ac9e-64291789db16"
      },
      "outputs": [
        {
          "output_type": "stream",
          "name": "stdout",
          "text": [
            "Enter the tuple:10 20 30 \n",
            "20.0\n"
          ]
        }
      ],
      "source": [
        "tuple = input(\"Enter the tuple:\").split()\n",
        "sum = 0\n",
        "for i in tuple:\n",
        "  sum += int(i)\n",
        "average = sum / len(tuple)\n",
        "print(average)"
      ]
    },
    {
      "cell_type": "markdown",
      "id": "51edab9c",
      "metadata": {
        "id": "51edab9c"
      },
      "source": [
        "**56-Write a Python program to add member(s) to a set."
      ]
    },
    {
      "cell_type": "code",
      "execution_count": null,
      "id": "2b65df79",
      "metadata": {
        "id": "2b65df79",
        "colab": {
          "base_uri": "https://localhost:8080/"
        },
        "outputId": "bd4c061b-0f00-430b-d638-992fff6b8b07"
      },
      "outputs": [
        {
          "output_type": "stream",
          "name": "stdout",
          "text": [
            "Enter the set:1 2 3 4\n",
            "Enter the member(s) to add:5,6,7,8\n",
            "Updated Set: ['1', '2', '3', '4', '5', '6', '7', '8']\n"
          ]
        }
      ],
      "source": [
        "my_set = input(\"Enter the set:\").split()\n",
        "members_to_add = input(\"Enter the member(s) to add:\").split(',')\n",
        "my_set.extend(members_to_add)\n",
        "print(\"Updated Set:\", my_set)"
      ]
    },
    {
      "cell_type": "markdown",
      "id": "965590cc",
      "metadata": {
        "id": "965590cc"
      },
      "source": [
        "**57-Write a Python program to remove an item from a set if it is present in the set."
      ]
    },
    {
      "cell_type": "code",
      "execution_count": null,
      "id": "866bab28",
      "metadata": {
        "id": "866bab28",
        "colab": {
          "base_uri": "https://localhost:8080/"
        },
        "outputId": "0aae55fc-3130-4950-d733-70697408e7d6"
      },
      "outputs": [
        {
          "output_type": "stream",
          "name": "stdout",
          "text": [
            "Enter the set:10 20 50 60\n",
            "Enter the item to remove:20\n",
            "Updated Set: ['10', '50', '60']\n"
          ]
        }
      ],
      "source": [
        "set = input(\"Enter the set:\").split()\n",
        "item_to_remove = input(\"Enter the item to remove:\")\n",
        "if item_to_remove in set:\n",
        "  set.remove(item_to_remove)\n",
        "  print(\"Updated Set:\", set)"
      ]
    },
    {
      "cell_type": "markdown",
      "id": "2b7cfed1",
      "metadata": {
        "id": "2b7cfed1"
      },
      "source": [
        "**58-Write a Python program to create an intersection,union,difference and symmetric difference of sets"
      ]
    },
    {
      "cell_type": "code",
      "execution_count": null,
      "id": "7f94b7fe",
      "metadata": {
        "id": "7f94b7fe",
        "colab": {
          "base_uri": "https://localhost:8080/"
        },
        "outputId": "fba34b4f-b6cc-4882-b959-c8d68b203acc"
      },
      "outputs": [
        {
          "output_type": "stream",
          "name": "stdout",
          "text": [
            "Enter the first set:1 2 3 4\n",
            "Enter the second set:4 5 6 7\n",
            "Intersection: {'4'}\n",
            "Union: {'1', '7', '3', '5', '4', '6', '2'}\n",
            "Difference: {'1', '2', '3'}\n",
            "Symmetric Difference: {'1', '7', '3', '5', '6', '2'}\n"
          ]
        }
      ],
      "source": [
        "set1 = input(\"Enter the first set:\").split()\n",
        "set2 = input(\"Enter the second set:\").split()\n",
        "print(\"Intersection:\", set(set1).intersection(set2))\n",
        "print(\"Union:\", set(set1).union(set2))\n",
        "print(\"Difference:\", set(set1).difference(set2))\n",
        "print(\"Symmetric Difference:\", set(set1).symmetric_difference(set2))"
      ]
    },
    {
      "cell_type": "markdown",
      "id": "b94931e2",
      "metadata": {
        "id": "b94931e2"
      },
      "source": [
        "**59-Write a Python program to find the maximum and minimum values in a set"
      ]
    },
    {
      "cell_type": "code",
      "execution_count": null,
      "id": "203f9600",
      "metadata": {
        "id": "203f9600",
        "colab": {
          "base_uri": "https://localhost:8080/"
        },
        "outputId": "c76acd8b-da77-4f61-94c9-e7d46ab396f8"
      },
      "outputs": [
        {
          "output_type": "stream",
          "name": "stdout",
          "text": [
            "Enter the set:10 50 60 40\n",
            "Maximum value: 60\n",
            "Minimum value: 10\n"
          ]
        }
      ],
      "source": [
        "set = input(\"Enter the set:\").split()\n",
        "max_value = max(set)\n",
        "min_value = min(set)\n",
        "print(\"Maximum value:\", max_value)\n",
        "print(\"Minimum value:\", min_value)"
      ]
    },
    {
      "cell_type": "markdown",
      "id": "255fd554",
      "metadata": {
        "id": "255fd554"
      },
      "source": [
        "**60- Write a Python program that finds all pairs of elements in a list whose sum is equal to a given value."
      ]
    },
    {
      "cell_type": "code",
      "execution_count": null,
      "id": "c2d94e1f",
      "metadata": {
        "id": "c2d94e1f",
        "colab": {
          "base_uri": "https://localhost:8080/"
        },
        "outputId": "02e0f865-942d-4261-f936-8164016604c0"
      },
      "outputs": [
        {
          "output_type": "stream",
          "name": "stdout",
          "text": [
            "Enter the list:2 3 4 5 7 8\n",
            "Enter the sum:10\n",
            "2 8\n",
            "3 7\n"
          ]
        }
      ],
      "source": [
        "num = input(\"Enter the list:\").split()\n",
        "sum = int(input(\"Enter the sum:\"))\n",
        "for i in range(len(num)):\n",
        "  for j in range(i+1, len(num)):\n",
        "    if int(num[i]) + int(num[j]) == sum:\n",
        "      print(num[i], num[j])"
      ]
    },
    {
      "cell_type": "code",
      "source": [
        "\n"
      ],
      "metadata": {
        "id": "LTyD0z70PSUT"
      },
      "id": "LTyD0z70PSUT",
      "execution_count": null,
      "outputs": []
    }
  ],
  "metadata": {
    "kernelspec": {
      "display_name": "Python 3 (ipykernel)",
      "language": "python",
      "name": "python3"
    },
    "language_info": {
      "codemirror_mode": {
        "name": "ipython",
        "version": 3
      },
      "file_extension": ".py",
      "mimetype": "text/x-python",
      "name": "python",
      "nbconvert_exporter": "python",
      "pygments_lexer": "ipython3",
      "version": "3.9.7"
    },
    "colab": {
      "provenance": []
    }
  },
  "nbformat": 4,
  "nbformat_minor": 5
}