{
 "cells": [
  {
   "cell_type": "code",
   "execution_count": null,
   "metadata": {
    "id": "3NuPgywVVT-X"
   },
   "outputs": [],
   "source": []
  },
  {
   "cell_type": "markdown",
   "metadata": {
    "id": "yGQ0PxZIWP0v"
   },
   "source": [
    "## **1- Write a Python program to find the area of a triangle**"
   ]
  },
  {
   "cell_type": "code",
   "execution_count": 18,
   "metadata": {
    "colab": {
     "base_uri": "https://localhost:8080/"
    },
    "id": "80alNSiqyTVB",
    "outputId": "bc1abf77-7ae9-4ec9-b7a8-8d22eab6b216"
   },
   "outputs": [
    {
     "name": "stdout",
     "output_type": "stream",
     "text": [
      "enter number of the base of the triangle:5\n",
      "enter number of the height of the triangle:5\n",
      "the area of triangle is: 12.5\n"
     ]
    }
   ],
   "source": [
    "base = float(input(\"enter number of the base of the triangle:\"))\n",
    "height = float(input(\"enter number of the height of the triangle:\"))\n",
    "area = 0.5 * base * height\n",
    "print(\"the area of triangle is:\" , area)"
   ]
  },
  {
   "cell_type": "markdown",
   "metadata": {
    "id": "3DD6RrL1Wa65"
   },
   "source": [
    "# **2- Write a Python program to swap two variables.**\n"
   ]
  },
  {
   "cell_type": "code",
   "execution_count": 21,
   "metadata": {
    "colab": {
     "base_uri": "https://localhost:8080/"
    },
    "id": "8A-qk-XGWmrK",
    "outputId": "91c71b0b-aa63-42fb-c46a-4615f0d26628"
   },
   "outputs": [
    {
     "name": "stdout",
     "output_type": "stream",
     "text": [
      "10\n",
      "7\n"
     ]
    }
   ],
   "source": [
    "a=7\n",
    "b=10\n",
    "a,b = b,a\n",
    "print(a)\n",
    "print(b)"
   ]
  },
  {
   "cell_type": "markdown",
   "metadata": {
    "id": "NXzXheUIXDEf"
   },
   "source": [
    "# **3-Write a Python program to enter a number from user and convert this number from kilometers to miles.**\n"
   ]
  },
  {
   "cell_type": "code",
   "execution_count": 20,
   "metadata": {
    "colab": {
     "base_uri": "https://localhost:8080/"
    },
    "id": "-hO2ACQCX8xA",
    "outputId": "2e6abfd7-5c89-46b2-9e47-e551c65bb75b"
   },
   "outputs": [
    {
     "name": "stdout",
     "output_type": "stream",
     "text": [
      "enter the number to convert into kilos:5\n",
      "3.106855\n"
     ]
    }
   ],
   "source": [
    "num=float(input(\"enter the number to convert into kilos:\"))\n",
    "miles = num * 0.621371\n",
    "print(miles)"
   ]
  }
 ],
 "metadata": {
  "colab": {
   "provenance": []
  },
  "kernelspec": {
   "display_name": "Python 3",
   "name": "python3"
  },
  "language_info": {
   "name": "python"
  }
 },
 "nbformat": 4,
 "nbformat_minor": 0
}
