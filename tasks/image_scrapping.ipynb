{
  "nbformat": 4,
  "nbformat_minor": 0,
  "metadata": {
    "colab": {
      "provenance": []
    },
    "kernelspec": {
      "name": "python3",
      "display_name": "Python 3"
    },
    "language_info": {
      "name": "python"
    }
  },
  "cells": [
    {
      "cell_type": "code",
      "source": [
        "import requests\n",
        "from bs4 import BeautifulSoup\n",
        "from urllib.parse import urljoin\n",
        "import os"
      ],
      "metadata": {
        "id": "Mp9ZvV9kh7K2"
      },
      "execution_count": null,
      "outputs": []
    },
    {
      "cell_type": "code",
      "source": [
        "url = 'https://books.toscrape.com/catalogue/page-1.html'\n",
        "image_base = 'https://books.toscrape.com/'\n",
        "save_folder = 'book_images'"
      ],
      "metadata": {
        "id": "8UEBpOEYh7QN"
      },
      "execution_count": null,
      "outputs": []
    },
    {
      "cell_type": "code",
      "source": [
        "os.makedirs(save_folder, exist_ok=True)"
      ],
      "metadata": {
        "id": "yajDBpewh7Zd"
      },
      "execution_count": null,
      "outputs": []
    },
    {
      "cell_type": "code",
      "source": [
        "response = requests.get(url)"
      ],
      "metadata": {
        "id": "MeAne4zpiEvi"
      },
      "execution_count": null,
      "outputs": []
    },
    {
      "cell_type": "code",
      "source": [
        "soup = BeautifulSoup(response.text, 'html.parser')"
      ],
      "metadata": {
        "id": "PYztM56eiEyP"
      },
      "execution_count": null,
      "outputs": []
    },
    {
      "cell_type": "code",
      "source": [
        "books = soup.find_all('article', class_='product_pod')"
      ],
      "metadata": {
        "id": "9s4Zu-kciE1a"
      },
      "execution_count": null,
      "outputs": []
    },
    {
      "cell_type": "code",
      "source": [
        "for book in books:\n",
        "    img_tag = book.find('img')\n",
        "    img_src = img_tag['src']\n",
        "    img_url = urljoin(image_base, img_src)\n",
        "    img_name = img_url.split('/')[-1]\n",
        "    img_data = requests.get(img_url).content\n",
        "    with open(os.path.join(save_folder, img_name), 'wb') as f:\n",
        "        f.write(img_data)\n",
        "    print(f'Downloaded: {img_name}')"
      ],
      "metadata": {
        "colab": {
          "base_uri": "https://localhost:8080/"
        },
        "id": "kWb2ekeKiMRr",
        "outputId": "66c2b021-e211-4445-95a2-fe756886c9a9"
      },
      "execution_count": null,
      "outputs": [
        {
          "output_type": "stream",
          "name": "stdout",
          "text": [
            "Downloaded: 2cdad67c44b002e7ead0cc35693c0e8b.jpg\n",
            "Downloaded: 260c6ae16bce31c8f8c95daddd9f4a1c.jpg\n",
            "Downloaded: 3eef99c9d9adef34639f510662022830.jpg\n",
            "Downloaded: 3251cf3a3412f53f339e42cac2134093.jpg\n",
            "Downloaded: bea5697f2534a2f86a3ef27b5a8c12a6.jpg\n",
            "Downloaded: 68339b4c9bc034267e1da611ab3b34f8.jpg\n",
            "Downloaded: 92274a95b7c251fea59a2b8a78275ab4.jpg\n",
            "Downloaded: 3d54940e57e662c4dd1f3ff00c78cc64.jpg\n",
            "Downloaded: 66883b91f6804b2323c8369331cb7dd1.jpg\n",
            "Downloaded: 5846057e28022268153beff6d352b06c.jpg\n",
            "Downloaded: bef44da28c98f905a3ebec0b87be8530.jpg\n",
            "Downloaded: 1048f63d3b5061cd2f424d20b3f9b666.jpg\n",
            "Downloaded: 5b88c52633f53cacf162c15f4f823153.jpg\n",
            "Downloaded: 94b1b8b244bce9677c2f29ccc890d4d2.jpg\n",
            "Downloaded: 81c4a973364e17d01f217e1188253d5e.jpg\n",
            "Downloaded: 54607fe8945897cdcced0044103b10b6.jpg\n",
            "Downloaded: 553310a7162dfbc2c6d19a84da0df9e1.jpg\n",
            "Downloaded: 09a3aef48557576e1a85ba7efea8ecb7.jpg\n",
            "Downloaded: 0bbcd0a6f4bcd81ccb1049a52736406e.jpg\n",
            "Downloaded: 27a53d0bb95bdd88288eaf66c9230d7e.jpg\n"
          ]
        }
      ]
    },
    {
      "cell_type": "code",
      "source": [],
      "metadata": {
        "id": "-Azm7CNSkLzr"
      },
      "execution_count": null,
      "outputs": []
    }
  ]
}