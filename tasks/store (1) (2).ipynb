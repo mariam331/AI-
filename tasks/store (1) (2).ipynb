{
 "cells": [
  {
   "cell_type": "code",
   "execution_count": 14,
   "id": "e48a63f4",
   "metadata": {},
   "outputs": [],
   "source": [
    "from selenium import webdriver\n",
    "from selenium.webdriver.chrome.service import Service\n",
    "from selenium.webdriver.common.by import By\n",
    "from selenium.webdriver.support.ui import WebDriverWait\n",
    "from selenium.webdriver.support import expected_conditions as EC\n",
    "from selenium.webdriver.chrome.options import Options\n",
    "from webdriver_manager.chrome import ChromeDriverManager\n",
    "import time\n",
    "import csv\n",
    "\n",
    "options = Options()\n",
    "options.add_argument(\"user-agent=Mozilla/5.0 (Windows NT 10.0; Win64; x64) AppleWebKit/537.36 (KHTML, like Gecko) Chrome/120.0.0.0 Safari/537.36\")\n",
    "options.add_argument(\"--disable-blink-features=AutomationControlled\")\n",
    "\n",
    "service = Service(ChromeDriverManager().install())\n",
    "driver = webdriver.Chrome(service=service, options=options)\n",
    "\n",
    "driver.execute_cdp_cmd(\"Page.addScriptToEvaluateOnNewDocument\", {\n",
    "    \"source\": \"\"\"\n",
    "        Object.defineProperty(navigator, 'webdriver', {\n",
    "            get: () => undefined\n",
    "        })\n",
    "    \"\"\"\n",
    "})\n",
    "\n",
    "csvfile = open(\"see.csv\", \"w\", encoding=\"utf-8-sig\", newline='')\n",
    "writer = csv.writer(csvfile)\n",
    "writer.writerow([\"الاسم\", \"السعر\"])\n",
    "\n",
    "url = \"https://www.carrefouregypt.com/mafegy/ar/c/best-price\"\n",
    "driver.get(url)\n",
    "time.sleep(5) \n",
    "for _ in range(5):\n",
    "    driver.execute_script(\"window.scrollTo(0, document.body.scrollHeight);\")\n",
    "    time.sleep(2)\n",
    "\n",
    "WebDriverWait(driver, 30).until(\n",
    "    EC.presence_of_all_elements_located((By.CSS_SELECTOR, 'div.css-11qbfb'))\n",
    ")\n",
    "\n",
    "products = driver.find_elements(By.CSS_SELECTOR, 'div.css-yqd9tx')\n",
    "\n",
    "for product in products:\n",
    "    name_element = product.find_elements(By.CSS_SELECTOR, '[data-testid=\"product_name\"]')\n",
    "    name = name_element[0].text.strip() if name_element else \" غير موجود\"\n",
    "\n",
    "    price_element = product.find_elements(By.CSS_SELECTOR, 'div.css-1b1b7o7')\n",
    "    price = price_element[0].text.strip() if price_element else \" غير موجود\"\n",
    "\n",
    "    writer.writerow([name, price])\n",
    "\n",
    "csvfile.close()\n",
    "driver.quit()"
   ]
  },
  {
   "cell_type": "code",
   "execution_count": null,
   "id": "069391d3",
   "metadata": {},
   "outputs": [],
   "source": []
  },
  {
   "cell_type": "code",
   "execution_count": null,
   "id": "2923e2b9-943b-45f4-812c-faff1e5de14e",
   "metadata": {},
   "outputs": [],
   "source": []
  }
 ],
 "metadata": {
  "kernelspec": {
   "display_name": "Python 3 (ipykernel)",
   "language": "python",
   "name": "python3"
  },
  "language_info": {
   "codemirror_mode": {
    "name": "ipython",
    "version": 3
   },
   "file_extension": ".py",
   "mimetype": "text/x-python",
   "name": "python",
   "nbconvert_exporter": "python",
   "pygments_lexer": "ipython3",
   "version": "3.12.7"
  }
 },
 "nbformat": 4,
 "nbformat_minor": 5
}
